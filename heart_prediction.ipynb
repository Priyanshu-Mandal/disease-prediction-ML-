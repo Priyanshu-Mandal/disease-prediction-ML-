{
  "nbformat": 4,
  "nbformat_minor": 0,
  "metadata": {
    "colab": {
      "provenance": [],
      "authorship_tag": "ABX9TyPdmo81jSmT7wnxapzfU7tU"
    },
    "kernelspec": {
      "name": "python3",
      "display_name": "Python 3"
    },
    "language_info": {
      "name": "python"
    }
  },
  "cells": [
    {
      "cell_type": "markdown",
      "source": [
        "# IMPORTING THE REQUIRED LIBRARIES"
      ],
      "metadata": {
        "id": "MUy7sKUF9m1b"
      }
    },
    {
      "cell_type": "code",
      "execution_count": 2,
      "metadata": {
        "id": "mgPUbom-UMEk"
      },
      "outputs": [],
      "source": [
        "import pandas as pd\n",
        "import numpy as np\n",
        "import matplotlib.pyplot as plt\n",
        "import seaborn as sns"
      ]
    },
    {
      "cell_type": "markdown",
      "source": [
        "# READING THE DATASET"
      ],
      "metadata": {
        "id": "M6SabXT29w6K"
      }
    },
    {
      "cell_type": "code",
      "source": [
        "df = pd.read_csv(\"heart.csv\")"
      ],
      "metadata": {
        "id": "UYv3akSpUTF1"
      },
      "execution_count": 3,
      "outputs": []
    },
    {
      "cell_type": "markdown",
      "source": [
        "# CHECKING THE SIZE OF THE DATA"
      ],
      "metadata": {
        "id": "74R2dbOf-nj0"
      }
    },
    {
      "cell_type": "code",
      "source": [
        "df.shape"
      ],
      "metadata": {
        "colab": {
          "base_uri": "https://localhost:8080/"
        },
        "id": "EOh0DT5T-kSH",
        "outputId": "365bcdf4-3d35-4853-bfe0-9cb9aa6bdd9b"
      },
      "execution_count": 5,
      "outputs": [
        {
          "output_type": "execute_result",
          "data": {
            "text/plain": [
              "(303, 14)"
            ]
          },
          "metadata": {},
          "execution_count": 5
        }
      ]
    },
    {
      "cell_type": "markdown",
      "source": [
        "# DESCRIBING THE DATASET"
      ],
      "metadata": {
        "id": "Yp_rESfL-rNf"
      }
    },
    {
      "cell_type": "code",
      "source": [
        "df.describe()"
      ],
      "metadata": {
        "colab": {
          "base_uri": "https://localhost:8080/",
          "height": 364
        },
        "id": "Maw53Hsu_5ev",
        "outputId": "fd25aa66-15ed-4e4e-8e39-2068e196b4db"
      },
      "execution_count": 6,
      "outputs": [
        {
          "output_type": "execute_result",
          "data": {
            "text/plain": [
              "              age         sex          cp    trestbps        chol         fbs  \\\n",
              "count  303.000000  303.000000  303.000000  303.000000  303.000000  303.000000   \n",
              "mean    54.366337    0.683168    0.966997  131.623762  246.264026    0.148515   \n",
              "std      9.082101    0.466011    1.032052   17.538143   51.830751    0.356198   \n",
              "min     29.000000    0.000000    0.000000   94.000000  126.000000    0.000000   \n",
              "25%     47.500000    0.000000    0.000000  120.000000  211.000000    0.000000   \n",
              "50%     55.000000    1.000000    1.000000  130.000000  240.000000    0.000000   \n",
              "75%     61.000000    1.000000    2.000000  140.000000  274.500000    0.000000   \n",
              "max     77.000000    1.000000    3.000000  200.000000  564.000000    1.000000   \n",
              "\n",
              "          restecg     thalach       exang     oldpeak       slope          ca  \\\n",
              "count  303.000000  303.000000  303.000000  303.000000  303.000000  303.000000   \n",
              "mean     0.528053  149.646865    0.326733    1.039604    1.399340    0.729373   \n",
              "std      0.525860   22.905161    0.469794    1.161075    0.616226    1.022606   \n",
              "min      0.000000   71.000000    0.000000    0.000000    0.000000    0.000000   \n",
              "25%      0.000000  133.500000    0.000000    0.000000    1.000000    0.000000   \n",
              "50%      1.000000  153.000000    0.000000    0.800000    1.000000    0.000000   \n",
              "75%      1.000000  166.000000    1.000000    1.600000    2.000000    1.000000   \n",
              "max      2.000000  202.000000    1.000000    6.200000    2.000000    4.000000   \n",
              "\n",
              "             thal      target  \n",
              "count  303.000000  303.000000  \n",
              "mean     2.313531    0.544554  \n",
              "std      0.612277    0.498835  \n",
              "min      0.000000    0.000000  \n",
              "25%      2.000000    0.000000  \n",
              "50%      2.000000    1.000000  \n",
              "75%      3.000000    1.000000  \n",
              "max      3.000000    1.000000  "
            ],
            "text/html": [
              "\n",
              "  <div id=\"df-91e53e9c-8263-453d-95a0-5552564ed92a\">\n",
              "    <div class=\"colab-df-container\">\n",
              "      <div>\n",
              "<style scoped>\n",
              "    .dataframe tbody tr th:only-of-type {\n",
              "        vertical-align: middle;\n",
              "    }\n",
              "\n",
              "    .dataframe tbody tr th {\n",
              "        vertical-align: top;\n",
              "    }\n",
              "\n",
              "    .dataframe thead th {\n",
              "        text-align: right;\n",
              "    }\n",
              "</style>\n",
              "<table border=\"1\" class=\"dataframe\">\n",
              "  <thead>\n",
              "    <tr style=\"text-align: right;\">\n",
              "      <th></th>\n",
              "      <th>age</th>\n",
              "      <th>sex</th>\n",
              "      <th>cp</th>\n",
              "      <th>trestbps</th>\n",
              "      <th>chol</th>\n",
              "      <th>fbs</th>\n",
              "      <th>restecg</th>\n",
              "      <th>thalach</th>\n",
              "      <th>exang</th>\n",
              "      <th>oldpeak</th>\n",
              "      <th>slope</th>\n",
              "      <th>ca</th>\n",
              "      <th>thal</th>\n",
              "      <th>target</th>\n",
              "    </tr>\n",
              "  </thead>\n",
              "  <tbody>\n",
              "    <tr>\n",
              "      <th>count</th>\n",
              "      <td>303.000000</td>\n",
              "      <td>303.000000</td>\n",
              "      <td>303.000000</td>\n",
              "      <td>303.000000</td>\n",
              "      <td>303.000000</td>\n",
              "      <td>303.000000</td>\n",
              "      <td>303.000000</td>\n",
              "      <td>303.000000</td>\n",
              "      <td>303.000000</td>\n",
              "      <td>303.000000</td>\n",
              "      <td>303.000000</td>\n",
              "      <td>303.000000</td>\n",
              "      <td>303.000000</td>\n",
              "      <td>303.000000</td>\n",
              "    </tr>\n",
              "    <tr>\n",
              "      <th>mean</th>\n",
              "      <td>54.366337</td>\n",
              "      <td>0.683168</td>\n",
              "      <td>0.966997</td>\n",
              "      <td>131.623762</td>\n",
              "      <td>246.264026</td>\n",
              "      <td>0.148515</td>\n",
              "      <td>0.528053</td>\n",
              "      <td>149.646865</td>\n",
              "      <td>0.326733</td>\n",
              "      <td>1.039604</td>\n",
              "      <td>1.399340</td>\n",
              "      <td>0.729373</td>\n",
              "      <td>2.313531</td>\n",
              "      <td>0.544554</td>\n",
              "    </tr>\n",
              "    <tr>\n",
              "      <th>std</th>\n",
              "      <td>9.082101</td>\n",
              "      <td>0.466011</td>\n",
              "      <td>1.032052</td>\n",
              "      <td>17.538143</td>\n",
              "      <td>51.830751</td>\n",
              "      <td>0.356198</td>\n",
              "      <td>0.525860</td>\n",
              "      <td>22.905161</td>\n",
              "      <td>0.469794</td>\n",
              "      <td>1.161075</td>\n",
              "      <td>0.616226</td>\n",
              "      <td>1.022606</td>\n",
              "      <td>0.612277</td>\n",
              "      <td>0.498835</td>\n",
              "    </tr>\n",
              "    <tr>\n",
              "      <th>min</th>\n",
              "      <td>29.000000</td>\n",
              "      <td>0.000000</td>\n",
              "      <td>0.000000</td>\n",
              "      <td>94.000000</td>\n",
              "      <td>126.000000</td>\n",
              "      <td>0.000000</td>\n",
              "      <td>0.000000</td>\n",
              "      <td>71.000000</td>\n",
              "      <td>0.000000</td>\n",
              "      <td>0.000000</td>\n",
              "      <td>0.000000</td>\n",
              "      <td>0.000000</td>\n",
              "      <td>0.000000</td>\n",
              "      <td>0.000000</td>\n",
              "    </tr>\n",
              "    <tr>\n",
              "      <th>25%</th>\n",
              "      <td>47.500000</td>\n",
              "      <td>0.000000</td>\n",
              "      <td>0.000000</td>\n",
              "      <td>120.000000</td>\n",
              "      <td>211.000000</td>\n",
              "      <td>0.000000</td>\n",
              "      <td>0.000000</td>\n",
              "      <td>133.500000</td>\n",
              "      <td>0.000000</td>\n",
              "      <td>0.000000</td>\n",
              "      <td>1.000000</td>\n",
              "      <td>0.000000</td>\n",
              "      <td>2.000000</td>\n",
              "      <td>0.000000</td>\n",
              "    </tr>\n",
              "    <tr>\n",
              "      <th>50%</th>\n",
              "      <td>55.000000</td>\n",
              "      <td>1.000000</td>\n",
              "      <td>1.000000</td>\n",
              "      <td>130.000000</td>\n",
              "      <td>240.000000</td>\n",
              "      <td>0.000000</td>\n",
              "      <td>1.000000</td>\n",
              "      <td>153.000000</td>\n",
              "      <td>0.000000</td>\n",
              "      <td>0.800000</td>\n",
              "      <td>1.000000</td>\n",
              "      <td>0.000000</td>\n",
              "      <td>2.000000</td>\n",
              "      <td>1.000000</td>\n",
              "    </tr>\n",
              "    <tr>\n",
              "      <th>75%</th>\n",
              "      <td>61.000000</td>\n",
              "      <td>1.000000</td>\n",
              "      <td>2.000000</td>\n",
              "      <td>140.000000</td>\n",
              "      <td>274.500000</td>\n",
              "      <td>0.000000</td>\n",
              "      <td>1.000000</td>\n",
              "      <td>166.000000</td>\n",
              "      <td>1.000000</td>\n",
              "      <td>1.600000</td>\n",
              "      <td>2.000000</td>\n",
              "      <td>1.000000</td>\n",
              "      <td>3.000000</td>\n",
              "      <td>1.000000</td>\n",
              "    </tr>\n",
              "    <tr>\n",
              "      <th>max</th>\n",
              "      <td>77.000000</td>\n",
              "      <td>1.000000</td>\n",
              "      <td>3.000000</td>\n",
              "      <td>200.000000</td>\n",
              "      <td>564.000000</td>\n",
              "      <td>1.000000</td>\n",
              "      <td>2.000000</td>\n",
              "      <td>202.000000</td>\n",
              "      <td>1.000000</td>\n",
              "      <td>6.200000</td>\n",
              "      <td>2.000000</td>\n",
              "      <td>4.000000</td>\n",
              "      <td>3.000000</td>\n",
              "      <td>1.000000</td>\n",
              "    </tr>\n",
              "  </tbody>\n",
              "</table>\n",
              "</div>\n",
              "      <button class=\"colab-df-convert\" onclick=\"convertToInteractive('df-91e53e9c-8263-453d-95a0-5552564ed92a')\"\n",
              "              title=\"Convert this dataframe to an interactive table.\"\n",
              "              style=\"display:none;\">\n",
              "        \n",
              "  <svg xmlns=\"http://www.w3.org/2000/svg\" height=\"24px\"viewBox=\"0 0 24 24\"\n",
              "       width=\"24px\">\n",
              "    <path d=\"M0 0h24v24H0V0z\" fill=\"none\"/>\n",
              "    <path d=\"M18.56 5.44l.94 2.06.94-2.06 2.06-.94-2.06-.94-.94-2.06-.94 2.06-2.06.94zm-11 1L8.5 8.5l.94-2.06 2.06-.94-2.06-.94L8.5 2.5l-.94 2.06-2.06.94zm10 10l.94 2.06.94-2.06 2.06-.94-2.06-.94-.94-2.06-.94 2.06-2.06.94z\"/><path d=\"M17.41 7.96l-1.37-1.37c-.4-.4-.92-.59-1.43-.59-.52 0-1.04.2-1.43.59L10.3 9.45l-7.72 7.72c-.78.78-.78 2.05 0 2.83L4 21.41c.39.39.9.59 1.41.59.51 0 1.02-.2 1.41-.59l7.78-7.78 2.81-2.81c.8-.78.8-2.07 0-2.86zM5.41 20L4 18.59l7.72-7.72 1.47 1.35L5.41 20z\"/>\n",
              "  </svg>\n",
              "      </button>\n",
              "      \n",
              "  <style>\n",
              "    .colab-df-container {\n",
              "      display:flex;\n",
              "      flex-wrap:wrap;\n",
              "      gap: 12px;\n",
              "    }\n",
              "\n",
              "    .colab-df-convert {\n",
              "      background-color: #E8F0FE;\n",
              "      border: none;\n",
              "      border-radius: 50%;\n",
              "      cursor: pointer;\n",
              "      display: none;\n",
              "      fill: #1967D2;\n",
              "      height: 32px;\n",
              "      padding: 0 0 0 0;\n",
              "      width: 32px;\n",
              "    }\n",
              "\n",
              "    .colab-df-convert:hover {\n",
              "      background-color: #E2EBFA;\n",
              "      box-shadow: 0px 1px 2px rgba(60, 64, 67, 0.3), 0px 1px 3px 1px rgba(60, 64, 67, 0.15);\n",
              "      fill: #174EA6;\n",
              "    }\n",
              "\n",
              "    [theme=dark] .colab-df-convert {\n",
              "      background-color: #3B4455;\n",
              "      fill: #D2E3FC;\n",
              "    }\n",
              "\n",
              "    [theme=dark] .colab-df-convert:hover {\n",
              "      background-color: #434B5C;\n",
              "      box-shadow: 0px 1px 3px 1px rgba(0, 0, 0, 0.15);\n",
              "      filter: drop-shadow(0px 1px 2px rgba(0, 0, 0, 0.3));\n",
              "      fill: #FFFFFF;\n",
              "    }\n",
              "  </style>\n",
              "\n",
              "      <script>\n",
              "        const buttonEl =\n",
              "          document.querySelector('#df-91e53e9c-8263-453d-95a0-5552564ed92a button.colab-df-convert');\n",
              "        buttonEl.style.display =\n",
              "          google.colab.kernel.accessAllowed ? 'block' : 'none';\n",
              "\n",
              "        async function convertToInteractive(key) {\n",
              "          const element = document.querySelector('#df-91e53e9c-8263-453d-95a0-5552564ed92a');\n",
              "          const dataTable =\n",
              "            await google.colab.kernel.invokeFunction('convertToInteractive',\n",
              "                                                     [key], {});\n",
              "          if (!dataTable) return;\n",
              "\n",
              "          const docLinkHtml = 'Like what you see? Visit the ' +\n",
              "            '<a target=\"_blank\" href=https://colab.research.google.com/notebooks/data_table.ipynb>data table notebook</a>'\n",
              "            + ' to learn more about interactive tables.';\n",
              "          element.innerHTML = '';\n",
              "          dataTable['output_type'] = 'display_data';\n",
              "          await google.colab.output.renderOutput(dataTable, element);\n",
              "          const docLink = document.createElement('div');\n",
              "          docLink.innerHTML = docLinkHtml;\n",
              "          element.appendChild(docLink);\n",
              "        }\n",
              "      </script>\n",
              "    </div>\n",
              "  </div>\n",
              "  "
            ]
          },
          "metadata": {},
          "execution_count": 6
        }
      ]
    },
    {
      "cell_type": "markdown",
      "source": [
        "# CHECKING THE NULL VALUES"
      ],
      "metadata": {
        "id": "k1sxdJuzAEWm"
      }
    },
    {
      "cell_type": "code",
      "source": [
        "df.isnull().sum()"
      ],
      "metadata": {
        "colab": {
          "base_uri": "https://localhost:8080/"
        },
        "id": "VA46Gug6ALUk",
        "outputId": "08820d1f-43da-4148-d15d-f8b78d18e2f5"
      },
      "execution_count": 7,
      "outputs": [
        {
          "output_type": "execute_result",
          "data": {
            "text/plain": [
              "age         0\n",
              "sex         0\n",
              "cp          0\n",
              "trestbps    0\n",
              "chol        0\n",
              "fbs         0\n",
              "restecg     0\n",
              "thalach     0\n",
              "exang       0\n",
              "oldpeak     0\n",
              "slope       0\n",
              "ca          0\n",
              "thal        0\n",
              "target      0\n",
              "dtype: int64"
            ]
          },
          "metadata": {},
          "execution_count": 7
        }
      ]
    },
    {
      "cell_type": "markdown",
      "source": [
        "# PRINTING COLUMN NAMES"
      ],
      "metadata": {
        "id": "f-9Riw6sAY_b"
      }
    },
    {
      "cell_type": "code",
      "source": [
        "df.columns"
      ],
      "metadata": {
        "colab": {
          "base_uri": "https://localhost:8080/"
        },
        "id": "2DGaHM-5A4PE",
        "outputId": "b472b242-6c0b-4726-fd02-c86c8998b151"
      },
      "execution_count": 8,
      "outputs": [
        {
          "output_type": "execute_result",
          "data": {
            "text/plain": [
              "Index(['age', 'sex', 'cp', 'trestbps', 'chol', 'fbs', 'restecg', 'thalach',\n",
              "       'exang', 'oldpeak', 'slope', 'ca', 'thal', 'target'],\n",
              "      dtype='object')"
            ]
          },
          "metadata": {},
          "execution_count": 8
        }
      ]
    },
    {
      "cell_type": "markdown",
      "source": [
        "# CHECKING CORRELATION BETWEEN DEPENDENT AND INDEPENDENT VARIABLES"
      ],
      "metadata": {
        "id": "txVj5Q60BCWd"
      }
    },
    {
      "cell_type": "code",
      "source": [
        "print(\"CORRELATIONS\")\n",
        "print(\"\")\n",
        "for i in df.columns:\n",
        "  if i == 'target':\n",
        "    break\n",
        "  else:\n",
        "    print(i,\"------->\",df[i].corr(df['target']))\n",
        "    print(\"\")"
      ],
      "metadata": {
        "colab": {
          "base_uri": "https://localhost:8080/"
        },
        "id": "lXU_wpJSBU_I",
        "outputId": "427fd2be-ebf3-48ac-bd86-4a6286a1e070"
      },
      "execution_count": 9,
      "outputs": [
        {
          "output_type": "stream",
          "name": "stdout",
          "text": [
            "CORRELATIONS\n",
            "\n",
            "age -------> -0.22543871587483727\n",
            "\n",
            "sex -------> -0.2809365755017666\n",
            "\n",
            "cp -------> 0.4337982615068934\n",
            "\n",
            "trestbps -------> -0.14493112849775147\n",
            "\n",
            "chol -------> -0.08523910513756904\n",
            "\n",
            "fbs -------> -0.028045760272712827\n",
            "\n",
            "restecg -------> 0.13722950287377336\n",
            "\n",
            "thalach -------> 0.42174093381067435\n",
            "\n",
            "exang -------> -0.4367570833533018\n",
            "\n",
            "oldpeak -------> -0.4306960016873684\n",
            "\n",
            "slope -------> 0.34587707824172526\n",
            "\n",
            "ca -------> -0.3917239923512519\n",
            "\n",
            "thal -------> -0.3440292680383098\n",
            "\n"
          ]
        }
      ]
    },
    {
      "cell_type": "markdown",
      "source": [
        "# IMPORTING REQUIRED MODELS AND METRICS"
      ],
      "metadata": {
        "id": "DgLQNkqFBvEw"
      }
    },
    {
      "cell_type": "code",
      "source": [
        "from sklearn.pipeline import make_pipeline\n",
        "from sklearn.preprocessing import StandardScaler\n",
        "\n",
        "# Train Test Split\n",
        "from sklearn.model_selection import train_test_split\n",
        "\n",
        "# Metrics\n",
        "from sklearn.metrics import confusion_matrix, accuracy_score\n",
        "\n",
        "# Models\n",
        "from sklearn.neighbors import KNeighborsClassifier\n",
        "from sklearn.linear_model import LogisticRegression\n",
        "from sklearn.svm import SVC\n",
        "from sklearn.tree import DecisionTreeClassifier\n",
        "from sklearn.ensemble import RandomForestClassifier"
      ],
      "metadata": {
        "id": "Fuirv9UUUdKY"
      },
      "execution_count": 10,
      "outputs": []
    },
    {
      "cell_type": "markdown",
      "source": [
        "# RENAMING THE COLUMN NAMES"
      ],
      "metadata": {
        "id": "5vznYhLfDDyJ"
      }
    },
    {
      "cell_type": "code",
      "source": [
        "df.rename(columns={\"cp\": \"chest_pain\",\n",
        "                   \"trtbps\":\"blood_pressure\",\n",
        "                   \"chol\":\"cholestoral\",\n",
        "                   \"fbs\":\"fasting_blood_sugar\",\n",
        "                   \"thalachh\":\"max_heart_rate\",\n",
        "                   \"exng\":\"angina\",\n",
        "                   \"caa\": \"n_vessels\",\n",
        "                   \"target\":\"heart_attack\"},\n",
        "          inplace=True)"
      ],
      "metadata": {
        "id": "oTR0at76U3kv"
      },
      "execution_count": 11,
      "outputs": []
    },
    {
      "cell_type": "markdown",
      "source": [
        "# DIVIDING THE DEPENDENT AND INDEPENDENT VARIABLES"
      ],
      "metadata": {
        "id": "lgWA7UMfDLEd"
      }
    },
    {
      "cell_type": "code",
      "source": [
        "y = df['heart_attack']\n",
        "X = df.drop(['heart_attack'],axis = 1)"
      ],
      "metadata": {
        "id": "dkqrAqU2Um_h"
      },
      "execution_count": 12,
      "outputs": []
    },
    {
      "cell_type": "markdown",
      "source": [
        "# DIVIDING THE DATA INTO TRAIN AND TEST"
      ],
      "metadata": {
        "id": "cfUrAVVtDWEI"
      }
    },
    {
      "cell_type": "code",
      "source": [
        "x_train, x_test, y_train, y_test = train_test_split(X,y,test_size=0.2, random_state=42)"
      ],
      "metadata": {
        "id": "P8D8Tm_2DWtQ"
      },
      "execution_count": 13,
      "outputs": []
    },
    {
      "cell_type": "code",
      "source": [
        "lst = [x_train,x_test,y_train,y_test]\n",
        "for data in lst:\n",
        "  print(\"shape\",\"---->\",data.shape)"
      ],
      "metadata": {
        "colab": {
          "base_uri": "https://localhost:8080/"
        },
        "id": "xljn1Ff_D67L",
        "outputId": "e581450e-08ed-4db9-c176-d37ca3fbc3bc"
      },
      "execution_count": 14,
      "outputs": [
        {
          "output_type": "stream",
          "name": "stdout",
          "text": [
            "shape ----> (242, 13)\n",
            "shape ----> (61, 13)\n",
            "shape ----> (242,)\n",
            "shape ----> (61,)\n"
          ]
        }
      ]
    },
    {
      "cell_type": "markdown",
      "source": [
        "# MAKING PIPELINE FOR EVERY MODEL"
      ],
      "metadata": {
        "id": "EvKewJUrD_bu"
      }
    },
    {
      "cell_type": "code",
      "source": [
        "mdl_1 = make_pipeline(StandardScaler(), KNeighborsClassifier()) \n",
        "mdl_2 = make_pipeline(StandardScaler(), LogisticRegression()) \n",
        "mdl_3 = make_pipeline(StandardScaler(), SVC()) \n",
        "mdl_4 = make_pipeline(StandardScaler(), DecisionTreeClassifier()) \n",
        "mdl_5 = make_pipeline(StandardScaler(), RandomForestClassifier())"
      ],
      "metadata": {
        "id": "rjGT3rNyUpPt"
      },
      "execution_count": 15,
      "outputs": []
    },
    {
      "cell_type": "markdown",
      "source": [
        "# FITTING AND PREDICTING ACCURACY OF MODELS"
      ],
      "metadata": {
        "id": "yK8I97YxENgv"
      }
    },
    {
      "cell_type": "code",
      "source": [
        "mdl_lst = [mdl_1,mdl_2,mdl_3,mdl_4,mdl_5]\n",
        "accuracy_lst = []\n",
        "for mdl in mdl_lst:\n",
        "  i = 1\n",
        "  mdl.fit(x_train,y_train)\n",
        "  y_pred = mdl.predict(x_test)\n",
        "  print(\"\")\n",
        "  print(\"******CLASSIFICATION MODEL******\")\n",
        "  i = i+1\n",
        "  print(\"\")\n",
        "  print(\"CONFUSION MATRIX\")\n",
        "  print(confusion_matrix(y_test,y_pred))\n",
        "  print(\"\")\n",
        "  print(\"ACCURACY SCORE\")\n",
        "  print(accuracy_score(y_test,y_pred))\n",
        "  print(\"----------------------------\")\n",
        "  accuracy_lst.append(accuracy_score(y_test,y_pred)) \n",
        " "
      ],
      "metadata": {
        "colab": {
          "base_uri": "https://localhost:8080/"
        },
        "id": "LoztPelmEKsM",
        "outputId": "b5cf35ed-22a9-4e34-97ee-786097e71347"
      },
      "execution_count": 16,
      "outputs": [
        {
          "output_type": "stream",
          "name": "stdout",
          "text": [
            "\n",
            "******CLASSIFICATION MODEL******\n",
            "\n",
            "CONFUSION MATRIX\n",
            "[[27  2]\n",
            " [ 4 28]]\n",
            "\n",
            "ACCURACY SCORE\n",
            "0.9016393442622951\n",
            "----------------------------\n",
            "\n",
            "******CLASSIFICATION MODEL******\n",
            "\n",
            "CONFUSION MATRIX\n",
            "[[25  4]\n",
            " [ 5 27]]\n",
            "\n",
            "ACCURACY SCORE\n",
            "0.8524590163934426\n",
            "----------------------------\n",
            "\n",
            "******CLASSIFICATION MODEL******\n",
            "\n",
            "CONFUSION MATRIX\n",
            "[[26  3]\n",
            " [ 5 27]]\n",
            "\n",
            "ACCURACY SCORE\n",
            "0.8688524590163934\n",
            "----------------------------\n",
            "\n",
            "******CLASSIFICATION MODEL******\n",
            "\n",
            "CONFUSION MATRIX\n",
            "[[27  2]\n",
            " [ 7 25]]\n",
            "\n",
            "ACCURACY SCORE\n",
            "0.8524590163934426\n",
            "----------------------------\n",
            "\n",
            "******CLASSIFICATION MODEL******\n",
            "\n",
            "CONFUSION MATRIX\n",
            "[[24  5]\n",
            " [ 4 28]]\n",
            "\n",
            "ACCURACY SCORE\n",
            "0.8524590163934426\n",
            "----------------------------\n"
          ]
        }
      ]
    },
    {
      "cell_type": "markdown",
      "source": [
        "# CHECKING FOR HIGH ACCURACY SCORE AMOUNG THE MODELS"
      ],
      "metadata": {
        "id": "ZwRtpon6EdRy"
      }
    },
    {
      "cell_type": "code",
      "source": [
        "print(accuracy_lst.index(max(accuracy_lst)))\n"
      ],
      "metadata": {
        "colab": {
          "base_uri": "https://localhost:8080/"
        },
        "id": "W9vCOUqYEKuc",
        "outputId": "a2ba856c-ccfc-4521-8d96-1d639ddebff4"
      },
      "execution_count": 17,
      "outputs": [
        {
          "output_type": "stream",
          "name": "stdout",
          "text": [
            "0\n"
          ]
        }
      ]
    },
    {
      "cell_type": "markdown",
      "source": [
        "# SAVING THE MODEL IN PICKLE FILE"
      ],
      "metadata": {
        "id": "4lOs0-sXEl7M"
      }
    },
    {
      "cell_type": "code",
      "source": [
        "import pickle"
      ],
      "metadata": {
        "id": "bad95sGGU80z"
      },
      "execution_count": 18,
      "outputs": []
    },
    {
      "cell_type": "code",
      "source": [
        "filename = 'heart_model.pkl'\n",
        "pickle.dump(mdl_1, open(filename, 'wb'))\n",
        " "
      ],
      "metadata": {
        "id": "D-lYOL4rVG7f"
      },
      "execution_count": 19,
      "outputs": []
    },
    {
      "cell_type": "code",
      "source": [],
      "metadata": {
        "id": "xL_R-6RsVQR3"
      },
      "execution_count": null,
      "outputs": []
    }
  ]
}