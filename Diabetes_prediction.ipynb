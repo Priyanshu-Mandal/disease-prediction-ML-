{
  "cells": [
    {
      "cell_type": "markdown",
      "metadata": {
        "id": "B_nrlfdA6wYo"
      },
      "source": [
        "# IMPORTING REQUIRED LIBRARIES"
      ]
    },
    {
      "cell_type": "code",
      "execution_count": null,
      "metadata": {
        "id": "Ge5EajEBKRNZ"
      },
      "outputs": [],
      "source": [
        "import pandas as pd\n",
        "import matplotlib.pyplot as plt\n",
        "import numpy as np\n",
        "from sklearn.preprocessing import StandardScaler"
      ]
    },
    {
      "cell_type": "markdown",
      "metadata": {
        "id": "t4oRLuaz7D4S"
      },
      "source": [
        "# READING THE DATASET"
      ]
    },
    {
      "cell_type": "code",
      "execution_count": null,
      "metadata": {
        "colab": {
          "base_uri": "https://localhost:8080/",
          "height": 423
        },
        "id": "8DjIADfEKRXC",
        "outputId": "816b2174-a912-440f-e67b-f8ff586e6d32"
      },
      "outputs": [
        {
          "data": {
            "text/html": [
              "\n",
              "  <div id=\"df-21afddce-4aeb-4b3c-ab4b-1e882aed498e\">\n",
              "    <div class=\"colab-df-container\">\n",
              "      <div>\n",
              "<style scoped>\n",
              "    .dataframe tbody tr th:only-of-type {\n",
              "        vertical-align: middle;\n",
              "    }\n",
              "\n",
              "    .dataframe tbody tr th {\n",
              "        vertical-align: top;\n",
              "    }\n",
              "\n",
              "    .dataframe thead th {\n",
              "        text-align: right;\n",
              "    }\n",
              "</style>\n",
              "<table border=\"1\" class=\"dataframe\">\n",
              "  <thead>\n",
              "    <tr style=\"text-align: right;\">\n",
              "      <th></th>\n",
              "      <th>Pregnancies</th>\n",
              "      <th>Glucose</th>\n",
              "      <th>BloodPressure</th>\n",
              "      <th>SkinThickness</th>\n",
              "      <th>Insulin</th>\n",
              "      <th>BMI</th>\n",
              "      <th>DiabetesPedigreeFunction</th>\n",
              "      <th>Age</th>\n",
              "      <th>Outcome</th>\n",
              "    </tr>\n",
              "  </thead>\n",
              "  <tbody>\n",
              "    <tr>\n",
              "      <th>0</th>\n",
              "      <td>6</td>\n",
              "      <td>148</td>\n",
              "      <td>72</td>\n",
              "      <td>35</td>\n",
              "      <td>0</td>\n",
              "      <td>33.6</td>\n",
              "      <td>0.627</td>\n",
              "      <td>50</td>\n",
              "      <td>1</td>\n",
              "    </tr>\n",
              "    <tr>\n",
              "      <th>1</th>\n",
              "      <td>1</td>\n",
              "      <td>85</td>\n",
              "      <td>66</td>\n",
              "      <td>29</td>\n",
              "      <td>0</td>\n",
              "      <td>26.6</td>\n",
              "      <td>0.351</td>\n",
              "      <td>31</td>\n",
              "      <td>0</td>\n",
              "    </tr>\n",
              "    <tr>\n",
              "      <th>2</th>\n",
              "      <td>8</td>\n",
              "      <td>183</td>\n",
              "      <td>64</td>\n",
              "      <td>0</td>\n",
              "      <td>0</td>\n",
              "      <td>23.3</td>\n",
              "      <td>0.672</td>\n",
              "      <td>32</td>\n",
              "      <td>1</td>\n",
              "    </tr>\n",
              "    <tr>\n",
              "      <th>3</th>\n",
              "      <td>1</td>\n",
              "      <td>89</td>\n",
              "      <td>66</td>\n",
              "      <td>23</td>\n",
              "      <td>94</td>\n",
              "      <td>28.1</td>\n",
              "      <td>0.167</td>\n",
              "      <td>21</td>\n",
              "      <td>0</td>\n",
              "    </tr>\n",
              "    <tr>\n",
              "      <th>4</th>\n",
              "      <td>0</td>\n",
              "      <td>137</td>\n",
              "      <td>40</td>\n",
              "      <td>35</td>\n",
              "      <td>168</td>\n",
              "      <td>43.1</td>\n",
              "      <td>2.288</td>\n",
              "      <td>33</td>\n",
              "      <td>1</td>\n",
              "    </tr>\n",
              "    <tr>\n",
              "      <th>...</th>\n",
              "      <td>...</td>\n",
              "      <td>...</td>\n",
              "      <td>...</td>\n",
              "      <td>...</td>\n",
              "      <td>...</td>\n",
              "      <td>...</td>\n",
              "      <td>...</td>\n",
              "      <td>...</td>\n",
              "      <td>...</td>\n",
              "    </tr>\n",
              "    <tr>\n",
              "      <th>763</th>\n",
              "      <td>10</td>\n",
              "      <td>101</td>\n",
              "      <td>76</td>\n",
              "      <td>48</td>\n",
              "      <td>180</td>\n",
              "      <td>32.9</td>\n",
              "      <td>0.171</td>\n",
              "      <td>63</td>\n",
              "      <td>0</td>\n",
              "    </tr>\n",
              "    <tr>\n",
              "      <th>764</th>\n",
              "      <td>2</td>\n",
              "      <td>122</td>\n",
              "      <td>70</td>\n",
              "      <td>27</td>\n",
              "      <td>0</td>\n",
              "      <td>36.8</td>\n",
              "      <td>0.340</td>\n",
              "      <td>27</td>\n",
              "      <td>0</td>\n",
              "    </tr>\n",
              "    <tr>\n",
              "      <th>765</th>\n",
              "      <td>5</td>\n",
              "      <td>121</td>\n",
              "      <td>72</td>\n",
              "      <td>23</td>\n",
              "      <td>112</td>\n",
              "      <td>26.2</td>\n",
              "      <td>0.245</td>\n",
              "      <td>30</td>\n",
              "      <td>0</td>\n",
              "    </tr>\n",
              "    <tr>\n",
              "      <th>766</th>\n",
              "      <td>1</td>\n",
              "      <td>126</td>\n",
              "      <td>60</td>\n",
              "      <td>0</td>\n",
              "      <td>0</td>\n",
              "      <td>30.1</td>\n",
              "      <td>0.349</td>\n",
              "      <td>47</td>\n",
              "      <td>1</td>\n",
              "    </tr>\n",
              "    <tr>\n",
              "      <th>767</th>\n",
              "      <td>1</td>\n",
              "      <td>93</td>\n",
              "      <td>70</td>\n",
              "      <td>31</td>\n",
              "      <td>0</td>\n",
              "      <td>30.4</td>\n",
              "      <td>0.315</td>\n",
              "      <td>23</td>\n",
              "      <td>0</td>\n",
              "    </tr>\n",
              "  </tbody>\n",
              "</table>\n",
              "<p>768 rows × 9 columns</p>\n",
              "</div>\n",
              "      <button class=\"colab-df-convert\" onclick=\"convertToInteractive('df-21afddce-4aeb-4b3c-ab4b-1e882aed498e')\"\n",
              "              title=\"Convert this dataframe to an interactive table.\"\n",
              "              style=\"display:none;\">\n",
              "        \n",
              "  <svg xmlns=\"http://www.w3.org/2000/svg\" height=\"24px\"viewBox=\"0 0 24 24\"\n",
              "       width=\"24px\">\n",
              "    <path d=\"M0 0h24v24H0V0z\" fill=\"none\"/>\n",
              "    <path d=\"M18.56 5.44l.94 2.06.94-2.06 2.06-.94-2.06-.94-.94-2.06-.94 2.06-2.06.94zm-11 1L8.5 8.5l.94-2.06 2.06-.94-2.06-.94L8.5 2.5l-.94 2.06-2.06.94zm10 10l.94 2.06.94-2.06 2.06-.94-2.06-.94-.94-2.06-.94 2.06-2.06.94z\"/><path d=\"M17.41 7.96l-1.37-1.37c-.4-.4-.92-.59-1.43-.59-.52 0-1.04.2-1.43.59L10.3 9.45l-7.72 7.72c-.78.78-.78 2.05 0 2.83L4 21.41c.39.39.9.59 1.41.59.51 0 1.02-.2 1.41-.59l7.78-7.78 2.81-2.81c.8-.78.8-2.07 0-2.86zM5.41 20L4 18.59l7.72-7.72 1.47 1.35L5.41 20z\"/>\n",
              "  </svg>\n",
              "      </button>\n",
              "      \n",
              "  <style>\n",
              "    .colab-df-container {\n",
              "      display:flex;\n",
              "      flex-wrap:wrap;\n",
              "      gap: 12px;\n",
              "    }\n",
              "\n",
              "    .colab-df-convert {\n",
              "      background-color: #E8F0FE;\n",
              "      border: none;\n",
              "      border-radius: 50%;\n",
              "      cursor: pointer;\n",
              "      display: none;\n",
              "      fill: #1967D2;\n",
              "      height: 32px;\n",
              "      padding: 0 0 0 0;\n",
              "      width: 32px;\n",
              "    }\n",
              "\n",
              "    .colab-df-convert:hover {\n",
              "      background-color: #E2EBFA;\n",
              "      box-shadow: 0px 1px 2px rgba(60, 64, 67, 0.3), 0px 1px 3px 1px rgba(60, 64, 67, 0.15);\n",
              "      fill: #174EA6;\n",
              "    }\n",
              "\n",
              "    [theme=dark] .colab-df-convert {\n",
              "      background-color: #3B4455;\n",
              "      fill: #D2E3FC;\n",
              "    }\n",
              "\n",
              "    [theme=dark] .colab-df-convert:hover {\n",
              "      background-color: #434B5C;\n",
              "      box-shadow: 0px 1px 3px 1px rgba(0, 0, 0, 0.15);\n",
              "      filter: drop-shadow(0px 1px 2px rgba(0, 0, 0, 0.3));\n",
              "      fill: #FFFFFF;\n",
              "    }\n",
              "  </style>\n",
              "\n",
              "      <script>\n",
              "        const buttonEl =\n",
              "          document.querySelector('#df-21afddce-4aeb-4b3c-ab4b-1e882aed498e button.colab-df-convert');\n",
              "        buttonEl.style.display =\n",
              "          google.colab.kernel.accessAllowed ? 'block' : 'none';\n",
              "\n",
              "        async function convertToInteractive(key) {\n",
              "          const element = document.querySelector('#df-21afddce-4aeb-4b3c-ab4b-1e882aed498e');\n",
              "          const dataTable =\n",
              "            await google.colab.kernel.invokeFunction('convertToInteractive',\n",
              "                                                     [key], {});\n",
              "          if (!dataTable) return;\n",
              "\n",
              "          const docLinkHtml = 'Like what you see? Visit the ' +\n",
              "            '<a target=\"_blank\" href=https://colab.research.google.com/notebooks/data_table.ipynb>data table notebook</a>'\n",
              "            + ' to learn more about interactive tables.';\n",
              "          element.innerHTML = '';\n",
              "          dataTable['output_type'] = 'display_data';\n",
              "          await google.colab.output.renderOutput(dataTable, element);\n",
              "          const docLink = document.createElement('div');\n",
              "          docLink.innerHTML = docLinkHtml;\n",
              "          element.appendChild(docLink);\n",
              "        }\n",
              "      </script>\n",
              "    </div>\n",
              "  </div>\n",
              "  "
            ],
            "text/plain": [
              "     Pregnancies  Glucose  BloodPressure  SkinThickness  Insulin   BMI  \\\n",
              "0              6      148             72             35        0  33.6   \n",
              "1              1       85             66             29        0  26.6   \n",
              "2              8      183             64              0        0  23.3   \n",
              "3              1       89             66             23       94  28.1   \n",
              "4              0      137             40             35      168  43.1   \n",
              "..           ...      ...            ...            ...      ...   ...   \n",
              "763           10      101             76             48      180  32.9   \n",
              "764            2      122             70             27        0  36.8   \n",
              "765            5      121             72             23      112  26.2   \n",
              "766            1      126             60              0        0  30.1   \n",
              "767            1       93             70             31        0  30.4   \n",
              "\n",
              "     DiabetesPedigreeFunction  Age  Outcome  \n",
              "0                       0.627   50        1  \n",
              "1                       0.351   31        0  \n",
              "2                       0.672   32        1  \n",
              "3                       0.167   21        0  \n",
              "4                       2.288   33        1  \n",
              "..                        ...  ...      ...  \n",
              "763                     0.171   63        0  \n",
              "764                     0.340   27        0  \n",
              "765                     0.245   30        0  \n",
              "766                     0.349   47        1  \n",
              "767                     0.315   23        0  \n",
              "\n",
              "[768 rows x 9 columns]"
            ]
          },
          "execution_count": 2,
          "metadata": {},
          "output_type": "execute_result"
        }
      ],
      "source": [
        "df = pd.read_csv(\"diabetes.csv\")\n",
        "df"
      ]
    },
    {
      "cell_type": "markdown",
      "metadata": {
        "id": "pEZ-ZjTL7GoX"
      },
      "source": [
        "# CHECKING THE SHAPE OF DATASET"
      ]
    },
    {
      "cell_type": "code",
      "execution_count": null,
      "metadata": {
        "colab": {
          "base_uri": "https://localhost:8080/"
        },
        "id": "rZlNaub66cgi",
        "outputId": "f8c42f08-ec11-4665-b9bf-4bd031b30a62"
      },
      "outputs": [
        {
          "data": {
            "text/plain": [
              "(768, 9)"
            ]
          },
          "execution_count": 66,
          "metadata": {},
          "output_type": "execute_result"
        }
      ],
      "source": [
        "df.shape"
      ]
    },
    {
      "cell_type": "markdown",
      "metadata": {
        "id": "5ke2zwPo7KXS"
      },
      "source": [
        "# DESCRIBING THE DATASET"
      ]
    },
    {
      "cell_type": "code",
      "execution_count": null,
      "metadata": {
        "colab": {
          "base_uri": "https://localhost:8080/",
          "height": 300
        },
        "id": "qvZLtlFj6fHQ",
        "outputId": "b2d42a20-abb6-42e7-a285-527c5bfe4ef0"
      },
      "outputs": [
        {
          "data": {
            "text/html": [
              "\n",
              "  <div id=\"df-a4e30c3c-8641-4beb-975c-3a030d9a6f7f\">\n",
              "    <div class=\"colab-df-container\">\n",
              "      <div>\n",
              "<style scoped>\n",
              "    .dataframe tbody tr th:only-of-type {\n",
              "        vertical-align: middle;\n",
              "    }\n",
              "\n",
              "    .dataframe tbody tr th {\n",
              "        vertical-align: top;\n",
              "    }\n",
              "\n",
              "    .dataframe thead th {\n",
              "        text-align: right;\n",
              "    }\n",
              "</style>\n",
              "<table border=\"1\" class=\"dataframe\">\n",
              "  <thead>\n",
              "    <tr style=\"text-align: right;\">\n",
              "      <th></th>\n",
              "      <th>Pregnancies</th>\n",
              "      <th>Glucose</th>\n",
              "      <th>BloodPressure</th>\n",
              "      <th>SkinThickness</th>\n",
              "      <th>Insulin</th>\n",
              "      <th>BMI</th>\n",
              "      <th>DiabetesPedigreeFunction</th>\n",
              "      <th>Age</th>\n",
              "      <th>Outcome</th>\n",
              "    </tr>\n",
              "  </thead>\n",
              "  <tbody>\n",
              "    <tr>\n",
              "      <th>count</th>\n",
              "      <td>768.000000</td>\n",
              "      <td>768.000000</td>\n",
              "      <td>768.000000</td>\n",
              "      <td>768.000000</td>\n",
              "      <td>768.000000</td>\n",
              "      <td>768.000000</td>\n",
              "      <td>768.000000</td>\n",
              "      <td>768.000000</td>\n",
              "      <td>768.000000</td>\n",
              "    </tr>\n",
              "    <tr>\n",
              "      <th>mean</th>\n",
              "      <td>3.845052</td>\n",
              "      <td>120.894531</td>\n",
              "      <td>69.105469</td>\n",
              "      <td>20.536458</td>\n",
              "      <td>79.799479</td>\n",
              "      <td>31.992578</td>\n",
              "      <td>0.471876</td>\n",
              "      <td>33.240885</td>\n",
              "      <td>0.348958</td>\n",
              "    </tr>\n",
              "    <tr>\n",
              "      <th>std</th>\n",
              "      <td>3.369578</td>\n",
              "      <td>31.972618</td>\n",
              "      <td>19.355807</td>\n",
              "      <td>15.952218</td>\n",
              "      <td>115.244002</td>\n",
              "      <td>7.884160</td>\n",
              "      <td>0.331329</td>\n",
              "      <td>11.760232</td>\n",
              "      <td>0.476951</td>\n",
              "    </tr>\n",
              "    <tr>\n",
              "      <th>min</th>\n",
              "      <td>0.000000</td>\n",
              "      <td>0.000000</td>\n",
              "      <td>0.000000</td>\n",
              "      <td>0.000000</td>\n",
              "      <td>0.000000</td>\n",
              "      <td>0.000000</td>\n",
              "      <td>0.078000</td>\n",
              "      <td>21.000000</td>\n",
              "      <td>0.000000</td>\n",
              "    </tr>\n",
              "    <tr>\n",
              "      <th>25%</th>\n",
              "      <td>1.000000</td>\n",
              "      <td>99.000000</td>\n",
              "      <td>62.000000</td>\n",
              "      <td>0.000000</td>\n",
              "      <td>0.000000</td>\n",
              "      <td>27.300000</td>\n",
              "      <td>0.243750</td>\n",
              "      <td>24.000000</td>\n",
              "      <td>0.000000</td>\n",
              "    </tr>\n",
              "    <tr>\n",
              "      <th>50%</th>\n",
              "      <td>3.000000</td>\n",
              "      <td>117.000000</td>\n",
              "      <td>72.000000</td>\n",
              "      <td>23.000000</td>\n",
              "      <td>30.500000</td>\n",
              "      <td>32.000000</td>\n",
              "      <td>0.372500</td>\n",
              "      <td>29.000000</td>\n",
              "      <td>0.000000</td>\n",
              "    </tr>\n",
              "    <tr>\n",
              "      <th>75%</th>\n",
              "      <td>6.000000</td>\n",
              "      <td>140.250000</td>\n",
              "      <td>80.000000</td>\n",
              "      <td>32.000000</td>\n",
              "      <td>127.250000</td>\n",
              "      <td>36.600000</td>\n",
              "      <td>0.626250</td>\n",
              "      <td>41.000000</td>\n",
              "      <td>1.000000</td>\n",
              "    </tr>\n",
              "    <tr>\n",
              "      <th>max</th>\n",
              "      <td>17.000000</td>\n",
              "      <td>199.000000</td>\n",
              "      <td>122.000000</td>\n",
              "      <td>99.000000</td>\n",
              "      <td>846.000000</td>\n",
              "      <td>67.100000</td>\n",
              "      <td>2.420000</td>\n",
              "      <td>81.000000</td>\n",
              "      <td>1.000000</td>\n",
              "    </tr>\n",
              "  </tbody>\n",
              "</table>\n",
              "</div>\n",
              "      <button class=\"colab-df-convert\" onclick=\"convertToInteractive('df-a4e30c3c-8641-4beb-975c-3a030d9a6f7f')\"\n",
              "              title=\"Convert this dataframe to an interactive table.\"\n",
              "              style=\"display:none;\">\n",
              "        \n",
              "  <svg xmlns=\"http://www.w3.org/2000/svg\" height=\"24px\"viewBox=\"0 0 24 24\"\n",
              "       width=\"24px\">\n",
              "    <path d=\"M0 0h24v24H0V0z\" fill=\"none\"/>\n",
              "    <path d=\"M18.56 5.44l.94 2.06.94-2.06 2.06-.94-2.06-.94-.94-2.06-.94 2.06-2.06.94zm-11 1L8.5 8.5l.94-2.06 2.06-.94-2.06-.94L8.5 2.5l-.94 2.06-2.06.94zm10 10l.94 2.06.94-2.06 2.06-.94-2.06-.94-.94-2.06-.94 2.06-2.06.94z\"/><path d=\"M17.41 7.96l-1.37-1.37c-.4-.4-.92-.59-1.43-.59-.52 0-1.04.2-1.43.59L10.3 9.45l-7.72 7.72c-.78.78-.78 2.05 0 2.83L4 21.41c.39.39.9.59 1.41.59.51 0 1.02-.2 1.41-.59l7.78-7.78 2.81-2.81c.8-.78.8-2.07 0-2.86zM5.41 20L4 18.59l7.72-7.72 1.47 1.35L5.41 20z\"/>\n",
              "  </svg>\n",
              "      </button>\n",
              "      \n",
              "  <style>\n",
              "    .colab-df-container {\n",
              "      display:flex;\n",
              "      flex-wrap:wrap;\n",
              "      gap: 12px;\n",
              "    }\n",
              "\n",
              "    .colab-df-convert {\n",
              "      background-color: #E8F0FE;\n",
              "      border: none;\n",
              "      border-radius: 50%;\n",
              "      cursor: pointer;\n",
              "      display: none;\n",
              "      fill: #1967D2;\n",
              "      height: 32px;\n",
              "      padding: 0 0 0 0;\n",
              "      width: 32px;\n",
              "    }\n",
              "\n",
              "    .colab-df-convert:hover {\n",
              "      background-color: #E2EBFA;\n",
              "      box-shadow: 0px 1px 2px rgba(60, 64, 67, 0.3), 0px 1px 3px 1px rgba(60, 64, 67, 0.15);\n",
              "      fill: #174EA6;\n",
              "    }\n",
              "\n",
              "    [theme=dark] .colab-df-convert {\n",
              "      background-color: #3B4455;\n",
              "      fill: #D2E3FC;\n",
              "    }\n",
              "\n",
              "    [theme=dark] .colab-df-convert:hover {\n",
              "      background-color: #434B5C;\n",
              "      box-shadow: 0px 1px 3px 1px rgba(0, 0, 0, 0.15);\n",
              "      filter: drop-shadow(0px 1px 2px rgba(0, 0, 0, 0.3));\n",
              "      fill: #FFFFFF;\n",
              "    }\n",
              "  </style>\n",
              "\n",
              "      <script>\n",
              "        const buttonEl =\n",
              "          document.querySelector('#df-a4e30c3c-8641-4beb-975c-3a030d9a6f7f button.colab-df-convert');\n",
              "        buttonEl.style.display =\n",
              "          google.colab.kernel.accessAllowed ? 'block' : 'none';\n",
              "\n",
              "        async function convertToInteractive(key) {\n",
              "          const element = document.querySelector('#df-a4e30c3c-8641-4beb-975c-3a030d9a6f7f');\n",
              "          const dataTable =\n",
              "            await google.colab.kernel.invokeFunction('convertToInteractive',\n",
              "                                                     [key], {});\n",
              "          if (!dataTable) return;\n",
              "\n",
              "          const docLinkHtml = 'Like what you see? Visit the ' +\n",
              "            '<a target=\"_blank\" href=https://colab.research.google.com/notebooks/data_table.ipynb>data table notebook</a>'\n",
              "            + ' to learn more about interactive tables.';\n",
              "          element.innerHTML = '';\n",
              "          dataTable['output_type'] = 'display_data';\n",
              "          await google.colab.output.renderOutput(dataTable, element);\n",
              "          const docLink = document.createElement('div');\n",
              "          docLink.innerHTML = docLinkHtml;\n",
              "          element.appendChild(docLink);\n",
              "        }\n",
              "      </script>\n",
              "    </div>\n",
              "  </div>\n",
              "  "
            ],
            "text/plain": [
              "       Pregnancies     Glucose  BloodPressure  SkinThickness     Insulin  \\\n",
              "count   768.000000  768.000000     768.000000     768.000000  768.000000   \n",
              "mean      3.845052  120.894531      69.105469      20.536458   79.799479   \n",
              "std       3.369578   31.972618      19.355807      15.952218  115.244002   \n",
              "min       0.000000    0.000000       0.000000       0.000000    0.000000   \n",
              "25%       1.000000   99.000000      62.000000       0.000000    0.000000   \n",
              "50%       3.000000  117.000000      72.000000      23.000000   30.500000   \n",
              "75%       6.000000  140.250000      80.000000      32.000000  127.250000   \n",
              "max      17.000000  199.000000     122.000000      99.000000  846.000000   \n",
              "\n",
              "              BMI  DiabetesPedigreeFunction         Age     Outcome  \n",
              "count  768.000000                768.000000  768.000000  768.000000  \n",
              "mean    31.992578                  0.471876   33.240885    0.348958  \n",
              "std      7.884160                  0.331329   11.760232    0.476951  \n",
              "min      0.000000                  0.078000   21.000000    0.000000  \n",
              "25%     27.300000                  0.243750   24.000000    0.000000  \n",
              "50%     32.000000                  0.372500   29.000000    0.000000  \n",
              "75%     36.600000                  0.626250   41.000000    1.000000  \n",
              "max     67.100000                  2.420000   81.000000    1.000000  "
            ]
          },
          "execution_count": 67,
          "metadata": {},
          "output_type": "execute_result"
        }
      ],
      "source": [
        "df.describe()"
      ]
    },
    {
      "cell_type": "markdown",
      "metadata": {
        "id": "8VhYk5wT7NIo"
      },
      "source": [
        "# CHECKING THE NULL VALUES IN DATA"
      ]
    },
    {
      "cell_type": "code",
      "execution_count": null,
      "metadata": {
        "colab": {
          "base_uri": "https://localhost:8080/"
        },
        "id": "aHVnYL9i6fJs",
        "outputId": "06c3cc29-7db3-4328-b553-0eb121b52d0f"
      },
      "outputs": [
        {
          "data": {
            "text/plain": [
              "Pregnancies                 0\n",
              "Glucose                     0\n",
              "BloodPressure               0\n",
              "SkinThickness               0\n",
              "Insulin                     0\n",
              "BMI                         0\n",
              "DiabetesPedigreeFunction    0\n",
              "Age                         0\n",
              "Outcome                     0\n",
              "dtype: int64"
            ]
          },
          "execution_count": 68,
          "metadata": {},
          "output_type": "execute_result"
        }
      ],
      "source": [
        "df.isnull().sum()"
      ]
    },
    {
      "cell_type": "markdown",
      "metadata": {
        "id": "eS9H2ZFo7Qo8"
      },
      "source": [
        "# PRINTING COLUMN NAMES"
      ]
    },
    {
      "cell_type": "code",
      "execution_count": null,
      "metadata": {
        "colab": {
          "base_uri": "https://localhost:8080/"
        },
        "id": "0JnmSpMW6fNV",
        "outputId": "80a9540f-c7f7-41ee-fa76-7dc9df93bb6e"
      },
      "outputs": [
        {
          "data": {
            "text/plain": [
              "Index(['Pregnancies', 'Glucose', 'BloodPressure', 'SkinThickness', 'Insulin',\n",
              "       'BMI', 'DiabetesPedigreeFunction', 'Age', 'Outcome'],\n",
              "      dtype='object')"
            ]
          },
          "execution_count": 69,
          "metadata": {},
          "output_type": "execute_result"
        }
      ],
      "source": [
        "df.columns"
      ]
    },
    {
      "cell_type": "markdown",
      "metadata": {
        "id": "SdSHcQNt7Y2a"
      },
      "source": [
        "# CHECKING CORRELATION BETWEEN DEPENDENT AND INDEPENDENT VARIABLES"
      ]
    },
    {
      "cell_type": "code",
      "execution_count": null,
      "metadata": {
        "colab": {
          "base_uri": "https://localhost:8080/"
        },
        "id": "qaq77vIx7k1n",
        "outputId": "e39f23e3-dec7-4640-e535-458fa54b2119"
      },
      "outputs": [
        {
          "name": "stdout",
          "output_type": "stream",
          "text": [
            "0------>Non-diabetic\n",
            "1------>Diabetic\n",
            "         Pregnancies     Glucose  BloodPressure  SkinThickness     Insulin  \\\n",
            "Outcome                                                                      \n",
            "0           3.298000  109.980000      68.184000      19.664000   68.792000   \n",
            "1           4.865672  141.257463      70.824627      22.164179  100.335821   \n",
            "\n",
            "               BMI  DiabetesPedigreeFunction        Age  \n",
            "Outcome                                                  \n",
            "0        30.304200                  0.429734  31.190000  \n",
            "1        35.142537                  0.550500  37.067164  \n"
          ]
        }
      ],
      "source": [
        "print('0------>Non-diabetic')\n",
        "print('1------>Diabetic')\n",
        "print(df.groupby('Outcome').mean())"
      ]
    },
    {
      "cell_type": "markdown",
      "metadata": {
        "id": "pU969_x18qcg"
      },
      "source": [
        "# IMPORTING THE REQUIRED MODELS AND METRICS"
      ]
    },
    {
      "cell_type": "code",
      "execution_count": null,
      "metadata": {
        "id": "Db02xmkIv5m0"
      },
      "outputs": [],
      "source": [
        "# Train Test Split\n",
        "from sklearn.model_selection import train_test_split\n",
        "\n",
        "# Metrics\n",
        "from sklearn.metrics import accuracy_score\n",
        "\n",
        "# Model\n",
        "from sklearn.svm import SVC\n",
        "\n",
        "#importing tensorflow and keras for neural network\n",
        "import tensorflow as tf\n",
        "tf.random.set_seed(3)\n",
        "from tensorflow import keras\n"
      ]
    },
    {
      "cell_type": "markdown",
      "metadata": {
        "id": "3uPS83Rw9H1r"
      },
      "source": [
        "# SPLITTING DEPENDENT AND INDEPENDENT VARIABLES AND STORING IN DIFFERENT VARIABLES"
      ]
    },
    {
      "cell_type": "code",
      "execution_count": null,
      "metadata": {
        "id": "r1bSUXcUv8mv"
      },
      "outputs": [],
      "source": [
        "y = df['Outcome']\n",
        "x = df.drop(['Outcome'],axis = 1)"
      ]
    },
    {
      "cell_type": "code",
      "execution_count": null,
      "metadata": {
        "colab": {
          "base_uri": "https://localhost:8080/"
        },
        "id": "V7HKPgip7gAH",
        "outputId": "7dcf6c93-56ae-47ac-f98f-00a98d8e4219"
      },
      "outputs": [
        {
          "data": {
            "text/plain": [
              "0      1\n",
              "1      0\n",
              "2      1\n",
              "3      0\n",
              "4      1\n",
              "      ..\n",
              "763    0\n",
              "764    0\n",
              "765    0\n",
              "766    1\n",
              "767    0\n",
              "Name: Outcome, Length: 768, dtype: int64"
            ]
          },
          "execution_count": 73,
          "metadata": {},
          "output_type": "execute_result"
        }
      ],
      "source": [
        "y"
      ]
    },
    {
      "cell_type": "code",
      "execution_count": null,
      "metadata": {
        "colab": {
          "base_uri": "https://localhost:8080/",
          "height": 423
        },
        "id": "uzvzzUUOCrgj",
        "outputId": "577d6399-57bd-48ba-8a85-79db0e653bc1"
      },
      "outputs": [
        {
          "data": {
            "text/html": [
              "\n",
              "  <div id=\"df-b96518ff-c911-4426-b3a0-788e9caa98b4\">\n",
              "    <div class=\"colab-df-container\">\n",
              "      <div>\n",
              "<style scoped>\n",
              "    .dataframe tbody tr th:only-of-type {\n",
              "        vertical-align: middle;\n",
              "    }\n",
              "\n",
              "    .dataframe tbody tr th {\n",
              "        vertical-align: top;\n",
              "    }\n",
              "\n",
              "    .dataframe thead th {\n",
              "        text-align: right;\n",
              "    }\n",
              "</style>\n",
              "<table border=\"1\" class=\"dataframe\">\n",
              "  <thead>\n",
              "    <tr style=\"text-align: right;\">\n",
              "      <th></th>\n",
              "      <th>Pregnancies</th>\n",
              "      <th>Glucose</th>\n",
              "      <th>BloodPressure</th>\n",
              "      <th>SkinThickness</th>\n",
              "      <th>Insulin</th>\n",
              "      <th>BMI</th>\n",
              "      <th>DiabetesPedigreeFunction</th>\n",
              "      <th>Age</th>\n",
              "    </tr>\n",
              "  </thead>\n",
              "  <tbody>\n",
              "    <tr>\n",
              "      <th>0</th>\n",
              "      <td>6</td>\n",
              "      <td>148</td>\n",
              "      <td>72</td>\n",
              "      <td>35</td>\n",
              "      <td>0</td>\n",
              "      <td>33.6</td>\n",
              "      <td>0.627</td>\n",
              "      <td>50</td>\n",
              "    </tr>\n",
              "    <tr>\n",
              "      <th>1</th>\n",
              "      <td>1</td>\n",
              "      <td>85</td>\n",
              "      <td>66</td>\n",
              "      <td>29</td>\n",
              "      <td>0</td>\n",
              "      <td>26.6</td>\n",
              "      <td>0.351</td>\n",
              "      <td>31</td>\n",
              "    </tr>\n",
              "    <tr>\n",
              "      <th>2</th>\n",
              "      <td>8</td>\n",
              "      <td>183</td>\n",
              "      <td>64</td>\n",
              "      <td>0</td>\n",
              "      <td>0</td>\n",
              "      <td>23.3</td>\n",
              "      <td>0.672</td>\n",
              "      <td>32</td>\n",
              "    </tr>\n",
              "    <tr>\n",
              "      <th>3</th>\n",
              "      <td>1</td>\n",
              "      <td>89</td>\n",
              "      <td>66</td>\n",
              "      <td>23</td>\n",
              "      <td>94</td>\n",
              "      <td>28.1</td>\n",
              "      <td>0.167</td>\n",
              "      <td>21</td>\n",
              "    </tr>\n",
              "    <tr>\n",
              "      <th>4</th>\n",
              "      <td>0</td>\n",
              "      <td>137</td>\n",
              "      <td>40</td>\n",
              "      <td>35</td>\n",
              "      <td>168</td>\n",
              "      <td>43.1</td>\n",
              "      <td>2.288</td>\n",
              "      <td>33</td>\n",
              "    </tr>\n",
              "    <tr>\n",
              "      <th>...</th>\n",
              "      <td>...</td>\n",
              "      <td>...</td>\n",
              "      <td>...</td>\n",
              "      <td>...</td>\n",
              "      <td>...</td>\n",
              "      <td>...</td>\n",
              "      <td>...</td>\n",
              "      <td>...</td>\n",
              "    </tr>\n",
              "    <tr>\n",
              "      <th>763</th>\n",
              "      <td>10</td>\n",
              "      <td>101</td>\n",
              "      <td>76</td>\n",
              "      <td>48</td>\n",
              "      <td>180</td>\n",
              "      <td>32.9</td>\n",
              "      <td>0.171</td>\n",
              "      <td>63</td>\n",
              "    </tr>\n",
              "    <tr>\n",
              "      <th>764</th>\n",
              "      <td>2</td>\n",
              "      <td>122</td>\n",
              "      <td>70</td>\n",
              "      <td>27</td>\n",
              "      <td>0</td>\n",
              "      <td>36.8</td>\n",
              "      <td>0.340</td>\n",
              "      <td>27</td>\n",
              "    </tr>\n",
              "    <tr>\n",
              "      <th>765</th>\n",
              "      <td>5</td>\n",
              "      <td>121</td>\n",
              "      <td>72</td>\n",
              "      <td>23</td>\n",
              "      <td>112</td>\n",
              "      <td>26.2</td>\n",
              "      <td>0.245</td>\n",
              "      <td>30</td>\n",
              "    </tr>\n",
              "    <tr>\n",
              "      <th>766</th>\n",
              "      <td>1</td>\n",
              "      <td>126</td>\n",
              "      <td>60</td>\n",
              "      <td>0</td>\n",
              "      <td>0</td>\n",
              "      <td>30.1</td>\n",
              "      <td>0.349</td>\n",
              "      <td>47</td>\n",
              "    </tr>\n",
              "    <tr>\n",
              "      <th>767</th>\n",
              "      <td>1</td>\n",
              "      <td>93</td>\n",
              "      <td>70</td>\n",
              "      <td>31</td>\n",
              "      <td>0</td>\n",
              "      <td>30.4</td>\n",
              "      <td>0.315</td>\n",
              "      <td>23</td>\n",
              "    </tr>\n",
              "  </tbody>\n",
              "</table>\n",
              "<p>768 rows × 8 columns</p>\n",
              "</div>\n",
              "      <button class=\"colab-df-convert\" onclick=\"convertToInteractive('df-b96518ff-c911-4426-b3a0-788e9caa98b4')\"\n",
              "              title=\"Convert this dataframe to an interactive table.\"\n",
              "              style=\"display:none;\">\n",
              "        \n",
              "  <svg xmlns=\"http://www.w3.org/2000/svg\" height=\"24px\"viewBox=\"0 0 24 24\"\n",
              "       width=\"24px\">\n",
              "    <path d=\"M0 0h24v24H0V0z\" fill=\"none\"/>\n",
              "    <path d=\"M18.56 5.44l.94 2.06.94-2.06 2.06-.94-2.06-.94-.94-2.06-.94 2.06-2.06.94zm-11 1L8.5 8.5l.94-2.06 2.06-.94-2.06-.94L8.5 2.5l-.94 2.06-2.06.94zm10 10l.94 2.06.94-2.06 2.06-.94-2.06-.94-.94-2.06-.94 2.06-2.06.94z\"/><path d=\"M17.41 7.96l-1.37-1.37c-.4-.4-.92-.59-1.43-.59-.52 0-1.04.2-1.43.59L10.3 9.45l-7.72 7.72c-.78.78-.78 2.05 0 2.83L4 21.41c.39.39.9.59 1.41.59.51 0 1.02-.2 1.41-.59l7.78-7.78 2.81-2.81c.8-.78.8-2.07 0-2.86zM5.41 20L4 18.59l7.72-7.72 1.47 1.35L5.41 20z\"/>\n",
              "  </svg>\n",
              "      </button>\n",
              "      \n",
              "  <style>\n",
              "    .colab-df-container {\n",
              "      display:flex;\n",
              "      flex-wrap:wrap;\n",
              "      gap: 12px;\n",
              "    }\n",
              "\n",
              "    .colab-df-convert {\n",
              "      background-color: #E8F0FE;\n",
              "      border: none;\n",
              "      border-radius: 50%;\n",
              "      cursor: pointer;\n",
              "      display: none;\n",
              "      fill: #1967D2;\n",
              "      height: 32px;\n",
              "      padding: 0 0 0 0;\n",
              "      width: 32px;\n",
              "    }\n",
              "\n",
              "    .colab-df-convert:hover {\n",
              "      background-color: #E2EBFA;\n",
              "      box-shadow: 0px 1px 2px rgba(60, 64, 67, 0.3), 0px 1px 3px 1px rgba(60, 64, 67, 0.15);\n",
              "      fill: #174EA6;\n",
              "    }\n",
              "\n",
              "    [theme=dark] .colab-df-convert {\n",
              "      background-color: #3B4455;\n",
              "      fill: #D2E3FC;\n",
              "    }\n",
              "\n",
              "    [theme=dark] .colab-df-convert:hover {\n",
              "      background-color: #434B5C;\n",
              "      box-shadow: 0px 1px 3px 1px rgba(0, 0, 0, 0.15);\n",
              "      filter: drop-shadow(0px 1px 2px rgba(0, 0, 0, 0.3));\n",
              "      fill: #FFFFFF;\n",
              "    }\n",
              "  </style>\n",
              "\n",
              "      <script>\n",
              "        const buttonEl =\n",
              "          document.querySelector('#df-b96518ff-c911-4426-b3a0-788e9caa98b4 button.colab-df-convert');\n",
              "        buttonEl.style.display =\n",
              "          google.colab.kernel.accessAllowed ? 'block' : 'none';\n",
              "\n",
              "        async function convertToInteractive(key) {\n",
              "          const element = document.querySelector('#df-b96518ff-c911-4426-b3a0-788e9caa98b4');\n",
              "          const dataTable =\n",
              "            await google.colab.kernel.invokeFunction('convertToInteractive',\n",
              "                                                     [key], {});\n",
              "          if (!dataTable) return;\n",
              "\n",
              "          const docLinkHtml = 'Like what you see? Visit the ' +\n",
              "            '<a target=\"_blank\" href=https://colab.research.google.com/notebooks/data_table.ipynb>data table notebook</a>'\n",
              "            + ' to learn more about interactive tables.';\n",
              "          element.innerHTML = '';\n",
              "          dataTable['output_type'] = 'display_data';\n",
              "          await google.colab.output.renderOutput(dataTable, element);\n",
              "          const docLink = document.createElement('div');\n",
              "          docLink.innerHTML = docLinkHtml;\n",
              "          element.appendChild(docLink);\n",
              "        }\n",
              "      </script>\n",
              "    </div>\n",
              "  </div>\n",
              "  "
            ],
            "text/plain": [
              "     Pregnancies  Glucose  BloodPressure  SkinThickness  Insulin   BMI  \\\n",
              "0              6      148             72             35        0  33.6   \n",
              "1              1       85             66             29        0  26.6   \n",
              "2              8      183             64              0        0  23.3   \n",
              "3              1       89             66             23       94  28.1   \n",
              "4              0      137             40             35      168  43.1   \n",
              "..           ...      ...            ...            ...      ...   ...   \n",
              "763           10      101             76             48      180  32.9   \n",
              "764            2      122             70             27        0  36.8   \n",
              "765            5      121             72             23      112  26.2   \n",
              "766            1      126             60              0        0  30.1   \n",
              "767            1       93             70             31        0  30.4   \n",
              "\n",
              "     DiabetesPedigreeFunction  Age  \n",
              "0                       0.627   50  \n",
              "1                       0.351   31  \n",
              "2                       0.672   32  \n",
              "3                       0.167   21  \n",
              "4                       2.288   33  \n",
              "..                        ...  ...  \n",
              "763                     0.171   63  \n",
              "764                     0.340   27  \n",
              "765                     0.245   30  \n",
              "766                     0.349   47  \n",
              "767                     0.315   23  \n",
              "\n",
              "[768 rows x 8 columns]"
            ]
          },
          "execution_count": 74,
          "metadata": {},
          "output_type": "execute_result"
        }
      ],
      "source": [
        "x"
      ]
    },
    {
      "cell_type": "markdown",
      "metadata": {
        "id": "X1ys4mp29MV0"
      },
      "source": [
        "# DIVIDING THE DATA INTO TRAIN AND TEST DATASETS"
      ]
    },
    {
      "cell_type": "code",
      "execution_count": null,
      "metadata": {
        "id": "6czKO0a19Uaq"
      },
      "outputs": [],
      "source": [
        "x_train, x_test, y_train, y_test = train_test_split(x,y,test_size=0.2, random_state=2)"
      ]
    },
    {
      "cell_type": "code",
      "execution_count": null,
      "metadata": {
        "colab": {
          "base_uri": "https://localhost:8080/"
        },
        "id": "w4GhjgMP9YjV",
        "outputId": "52614a4e-4028-445e-87e8-361be7bd205f"
      },
      "outputs": [
        {
          "data": {
            "text/plain": [
              "((768, 8), (614, 8), (154, 8))"
            ]
          },
          "execution_count": 6,
          "metadata": {},
          "output_type": "execute_result"
        }
      ],
      "source": [
        "x.shape, x_train.shape, x_test.shape"
      ]
    },
    {
      "cell_type": "markdown",
      "metadata": {
        "id": "GU3k9gLa98Gz"
      },
      "source": [
        "# STANDARDIZING THE DATA"
      ]
    },
    {
      "cell_type": "code",
      "execution_count": null,
      "metadata": {
        "colab": {
          "base_uri": "https://localhost:8080/"
        },
        "id": "yUxOS7sDv_e5",
        "outputId": "bd111636-ada4-4115-e6b8-1cc6f9f40287"
      },
      "outputs": [
        {
          "name": "stdout",
          "output_type": "stream",
          "text": [
            "[[-0.85811767  0.06488386  0.25332145 ... -0.51313743 -1.10316947\n",
            "  -0.27704152]\n",
            " [-0.85811767 -0.84697246  0.66358026 ...  0.4081093  -0.71238555\n",
            "   0.84376203]\n",
            " [-1.15412006 -0.87841578  0.04819205 ...  1.49569224 -0.37742791\n",
            "  -1.05298243]\n",
            " ...\n",
            " [ 0.02988949  0.09632718  0.04819205 ... -0.3723914   1.96433735\n",
            "   1.01619334]\n",
            " [-0.2661129  -0.18666271  0.25332145 ... -0.70506383 -1.08260189\n",
            "  -0.79433546]\n",
            " [ 0.02988949 -0.37532264 -0.15693736 ...  0.0114614  -0.01308802\n",
            "  -0.36325717]]\n"
          ]
        }
      ],
      "source": [
        "standard=StandardScaler()\n",
        "x_train_standard = standard.fit_transform(x_train)\n",
        "x_test_standard = standard.transform(x_test)\n",
        "print(x_train_standard)"
      ]
    },
    {
      "cell_type": "markdown",
      "metadata": {
        "id": "MqtPRtag-lGT"
      },
      "source": [
        "# MAKING LAYERS FOR NEURAL NETWORK"
      ]
    },
    {
      "cell_type": "code",
      "execution_count": null,
      "metadata": {
        "id": "H0l5yRjz-Sm1"
      },
      "outputs": [],
      "source": [
        "model = keras.Sequential([\n",
        "    keras.layers.Flatten(input_shape=(8,)),\n",
        "    keras.layers.Dense(24, activation='relu'),\n",
        "    keras.layers.Dense(2, activation='sigmoid')\n",
        "])"
      ]
    },
    {
      "cell_type": "markdown",
      "metadata": {
        "id": "LA4_GYEfBgvp"
      },
      "source": [
        "# COMPILING THE NEURAL NETWORK"
      ]
    },
    {
      "cell_type": "code",
      "execution_count": null,
      "metadata": {
        "id": "EUfohOGRA2um"
      },
      "outputs": [],
      "source": [
        "model.compile(optimizer='adam',\n",
        "              loss='sparse_categorical_crossentropy',\n",
        "              metrics=['accuracy']\n",
        ")"
      ]
    },
    {
      "cell_type": "markdown",
      "metadata": {
        "id": "FWh9AgdsIC-z"
      },
      "source": [
        "# TRAINING THE MODEL"
      ]
    },
    {
      "cell_type": "code",
      "execution_count": null,
      "metadata": {
        "colab": {
          "base_uri": "https://localhost:8080/"
        },
        "id": "e6Ea60e8_qtu",
        "outputId": "9f7ba37f-99f6-402c-f49a-78dbe40e973d"
      },
      "outputs": [
        {
          "name": "stdout",
          "output_type": "stream",
          "text": [
            "Epoch 1/150\n",
            "18/18 [==============================] - 1s 36ms/step - loss: 0.7123 - accuracy: 0.5308 - val_loss: 0.6570 - val_accuracy: 0.6452\n",
            "Epoch 2/150\n",
            "18/18 [==============================] - 0s 5ms/step - loss: 0.6601 - accuracy: 0.6304 - val_loss: 0.5945 - val_accuracy: 0.7419\n",
            "Epoch 3/150\n",
            "18/18 [==============================] - 0s 5ms/step - loss: 0.6184 - accuracy: 0.6866 - val_loss: 0.5472 - val_accuracy: 0.7742\n",
            "Epoch 4/150\n",
            "18/18 [==============================] - 0s 5ms/step - loss: 0.5855 - accuracy: 0.6993 - val_loss: 0.5100 - val_accuracy: 0.8226\n",
            "Epoch 5/150\n",
            "18/18 [==============================] - 0s 5ms/step - loss: 0.5607 - accuracy: 0.7264 - val_loss: 0.4789 - val_accuracy: 0.8226\n",
            "Epoch 6/150\n",
            "18/18 [==============================] - 0s 6ms/step - loss: 0.5406 - accuracy: 0.7301 - val_loss: 0.4558 - val_accuracy: 0.8226\n",
            "Epoch 7/150\n",
            "18/18 [==============================] - 0s 5ms/step - loss: 0.5259 - accuracy: 0.7283 - val_loss: 0.4392 - val_accuracy: 0.8387\n",
            "Epoch 8/150\n",
            "18/18 [==============================] - 0s 6ms/step - loss: 0.5137 - accuracy: 0.7301 - val_loss: 0.4227 - val_accuracy: 0.8387\n",
            "Epoch 9/150\n",
            "18/18 [==============================] - 0s 7ms/step - loss: 0.5036 - accuracy: 0.7482 - val_loss: 0.4085 - val_accuracy: 0.8387\n",
            "Epoch 10/150\n",
            "18/18 [==============================] - 0s 4ms/step - loss: 0.4957 - accuracy: 0.7609 - val_loss: 0.3980 - val_accuracy: 0.8387\n",
            "Epoch 11/150\n",
            "18/18 [==============================] - 0s 5ms/step - loss: 0.4894 - accuracy: 0.7591 - val_loss: 0.3881 - val_accuracy: 0.8387\n",
            "Epoch 12/150\n",
            "18/18 [==============================] - 0s 5ms/step - loss: 0.4841 - accuracy: 0.7591 - val_loss: 0.3830 - val_accuracy: 0.8548\n",
            "Epoch 13/150\n",
            "18/18 [==============================] - 0s 5ms/step - loss: 0.4805 - accuracy: 0.7572 - val_loss: 0.3796 - val_accuracy: 0.8548\n",
            "Epoch 14/150\n",
            "18/18 [==============================] - 0s 5ms/step - loss: 0.4768 - accuracy: 0.7609 - val_loss: 0.3744 - val_accuracy: 0.8710\n",
            "Epoch 15/150\n",
            "18/18 [==============================] - 0s 7ms/step - loss: 0.4741 - accuracy: 0.7627 - val_loss: 0.3677 - val_accuracy: 0.8710\n",
            "Epoch 16/150\n",
            "18/18 [==============================] - 0s 4ms/step - loss: 0.4709 - accuracy: 0.7663 - val_loss: 0.3694 - val_accuracy: 0.8710\n",
            "Epoch 17/150\n",
            "18/18 [==============================] - 0s 5ms/step - loss: 0.4689 - accuracy: 0.7754 - val_loss: 0.3666 - val_accuracy: 0.8548\n",
            "Epoch 18/150\n",
            "18/18 [==============================] - 0s 5ms/step - loss: 0.4669 - accuracy: 0.7772 - val_loss: 0.3616 - val_accuracy: 0.8710\n",
            "Epoch 19/150\n",
            "18/18 [==============================] - 0s 6ms/step - loss: 0.4650 - accuracy: 0.7790 - val_loss: 0.3604 - val_accuracy: 0.8548\n",
            "Epoch 20/150\n",
            "18/18 [==============================] - 0s 5ms/step - loss: 0.4635 - accuracy: 0.7826 - val_loss: 0.3579 - val_accuracy: 0.8710\n",
            "Epoch 21/150\n",
            "18/18 [==============================] - 0s 5ms/step - loss: 0.4621 - accuracy: 0.7862 - val_loss: 0.3543 - val_accuracy: 0.8871\n",
            "Epoch 22/150\n",
            "18/18 [==============================] - 0s 6ms/step - loss: 0.4605 - accuracy: 0.7880 - val_loss: 0.3549 - val_accuracy: 0.8710\n",
            "Epoch 23/150\n",
            "18/18 [==============================] - 0s 5ms/step - loss: 0.4593 - accuracy: 0.7880 - val_loss: 0.3538 - val_accuracy: 0.8871\n",
            "Epoch 24/150\n",
            "18/18 [==============================] - 0s 5ms/step - loss: 0.4586 - accuracy: 0.7844 - val_loss: 0.3518 - val_accuracy: 0.8871\n",
            "Epoch 25/150\n",
            "18/18 [==============================] - 0s 5ms/step - loss: 0.4569 - accuracy: 0.7826 - val_loss: 0.3515 - val_accuracy: 0.8710\n",
            "Epoch 26/150\n",
            "18/18 [==============================] - 0s 5ms/step - loss: 0.4556 - accuracy: 0.7844 - val_loss: 0.3541 - val_accuracy: 0.8871\n",
            "Epoch 27/150\n",
            "18/18 [==============================] - 0s 5ms/step - loss: 0.4552 - accuracy: 0.7808 - val_loss: 0.3516 - val_accuracy: 0.8871\n",
            "Epoch 28/150\n",
            "18/18 [==============================] - 0s 5ms/step - loss: 0.4542 - accuracy: 0.7862 - val_loss: 0.3548 - val_accuracy: 0.8871\n",
            "Epoch 29/150\n",
            "18/18 [==============================] - 0s 6ms/step - loss: 0.4535 - accuracy: 0.7862 - val_loss: 0.3519 - val_accuracy: 0.8871\n",
            "Epoch 30/150\n",
            "18/18 [==============================] - 0s 5ms/step - loss: 0.4528 - accuracy: 0.7790 - val_loss: 0.3477 - val_accuracy: 0.8710\n",
            "Epoch 31/150\n",
            "18/18 [==============================] - 0s 5ms/step - loss: 0.4520 - accuracy: 0.7772 - val_loss: 0.3457 - val_accuracy: 0.8710\n",
            "Epoch 32/150\n",
            "18/18 [==============================] - 0s 5ms/step - loss: 0.4513 - accuracy: 0.7772 - val_loss: 0.3466 - val_accuracy: 0.8710\n",
            "Epoch 33/150\n",
            "18/18 [==============================] - 0s 6ms/step - loss: 0.4510 - accuracy: 0.7808 - val_loss: 0.3451 - val_accuracy: 0.8710\n",
            "Epoch 34/150\n",
            "18/18 [==============================] - 0s 5ms/step - loss: 0.4509 - accuracy: 0.7790 - val_loss: 0.3423 - val_accuracy: 0.8710\n",
            "Epoch 35/150\n",
            "18/18 [==============================] - 0s 5ms/step - loss: 0.4501 - accuracy: 0.7844 - val_loss: 0.3462 - val_accuracy: 0.8710\n",
            "Epoch 36/150\n",
            "18/18 [==============================] - 0s 5ms/step - loss: 0.4489 - accuracy: 0.7844 - val_loss: 0.3455 - val_accuracy: 0.8710\n",
            "Epoch 37/150\n",
            "18/18 [==============================] - 0s 4ms/step - loss: 0.4483 - accuracy: 0.7808 - val_loss: 0.3474 - val_accuracy: 0.8710\n",
            "Epoch 38/150\n",
            "18/18 [==============================] - 0s 4ms/step - loss: 0.4478 - accuracy: 0.7790 - val_loss: 0.3468 - val_accuracy: 0.8710\n",
            "Epoch 39/150\n",
            "18/18 [==============================] - 0s 5ms/step - loss: 0.4477 - accuracy: 0.7808 - val_loss: 0.3461 - val_accuracy: 0.8710\n",
            "Epoch 40/150\n",
            "18/18 [==============================] - 0s 5ms/step - loss: 0.4470 - accuracy: 0.7826 - val_loss: 0.3454 - val_accuracy: 0.8710\n",
            "Epoch 41/150\n",
            "18/18 [==============================] - 0s 5ms/step - loss: 0.4465 - accuracy: 0.7808 - val_loss: 0.3457 - val_accuracy: 0.8710\n",
            "Epoch 42/150\n",
            "18/18 [==============================] - 0s 4ms/step - loss: 0.4459 - accuracy: 0.7808 - val_loss: 0.3427 - val_accuracy: 0.8710\n",
            "Epoch 43/150\n",
            "18/18 [==============================] - 0s 6ms/step - loss: 0.4452 - accuracy: 0.7826 - val_loss: 0.3440 - val_accuracy: 0.8548\n",
            "Epoch 44/150\n",
            "18/18 [==============================] - 0s 6ms/step - loss: 0.4447 - accuracy: 0.7826 - val_loss: 0.3436 - val_accuracy: 0.8710\n",
            "Epoch 45/150\n",
            "18/18 [==============================] - 0s 5ms/step - loss: 0.4440 - accuracy: 0.7826 - val_loss: 0.3431 - val_accuracy: 0.8710\n",
            "Epoch 46/150\n",
            "18/18 [==============================] - 0s 5ms/step - loss: 0.4442 - accuracy: 0.7844 - val_loss: 0.3448 - val_accuracy: 0.8710\n",
            "Epoch 47/150\n",
            "18/18 [==============================] - 0s 5ms/step - loss: 0.4432 - accuracy: 0.7826 - val_loss: 0.3430 - val_accuracy: 0.8710\n",
            "Epoch 48/150\n",
            "18/18 [==============================] - 0s 5ms/step - loss: 0.4426 - accuracy: 0.7899 - val_loss: 0.3472 - val_accuracy: 0.8710\n",
            "Epoch 49/150\n",
            "18/18 [==============================] - 0s 5ms/step - loss: 0.4422 - accuracy: 0.7880 - val_loss: 0.3443 - val_accuracy: 0.8710\n",
            "Epoch 50/150\n",
            "18/18 [==============================] - 0s 4ms/step - loss: 0.4423 - accuracy: 0.7844 - val_loss: 0.3426 - val_accuracy: 0.8710\n",
            "Epoch 51/150\n",
            "18/18 [==============================] - 0s 5ms/step - loss: 0.4418 - accuracy: 0.7808 - val_loss: 0.3425 - val_accuracy: 0.8710\n",
            "Epoch 52/150\n",
            "18/18 [==============================] - 0s 4ms/step - loss: 0.4410 - accuracy: 0.7844 - val_loss: 0.3435 - val_accuracy: 0.8710\n",
            "Epoch 53/150\n",
            "18/18 [==============================] - 0s 6ms/step - loss: 0.4411 - accuracy: 0.7844 - val_loss: 0.3438 - val_accuracy: 0.8710\n",
            "Epoch 54/150\n",
            "18/18 [==============================] - 0s 6ms/step - loss: 0.4412 - accuracy: 0.7826 - val_loss: 0.3445 - val_accuracy: 0.8710\n",
            "Epoch 55/150\n",
            "18/18 [==============================] - 0s 4ms/step - loss: 0.4403 - accuracy: 0.7899 - val_loss: 0.3439 - val_accuracy: 0.8710\n",
            "Epoch 56/150\n",
            "18/18 [==============================] - 0s 5ms/step - loss: 0.4393 - accuracy: 0.7880 - val_loss: 0.3422 - val_accuracy: 0.8710\n",
            "Epoch 57/150\n",
            "18/18 [==============================] - 0s 4ms/step - loss: 0.4389 - accuracy: 0.7899 - val_loss: 0.3411 - val_accuracy: 0.8710\n",
            "Epoch 58/150\n",
            "18/18 [==============================] - 0s 5ms/step - loss: 0.4391 - accuracy: 0.7844 - val_loss: 0.3392 - val_accuracy: 0.8710\n",
            "Epoch 59/150\n",
            "18/18 [==============================] - 0s 5ms/step - loss: 0.4389 - accuracy: 0.7880 - val_loss: 0.3400 - val_accuracy: 0.8710\n",
            "Epoch 60/150\n",
            "18/18 [==============================] - 0s 6ms/step - loss: 0.4380 - accuracy: 0.7917 - val_loss: 0.3370 - val_accuracy: 0.8710\n",
            "Epoch 61/150\n",
            "18/18 [==============================] - 0s 5ms/step - loss: 0.4377 - accuracy: 0.7862 - val_loss: 0.3360 - val_accuracy: 0.8871\n",
            "Epoch 62/150\n",
            "18/18 [==============================] - 0s 4ms/step - loss: 0.4370 - accuracy: 0.7862 - val_loss: 0.3363 - val_accuracy: 0.8871\n",
            "Epoch 63/150\n",
            "18/18 [==============================] - 0s 4ms/step - loss: 0.4372 - accuracy: 0.7826 - val_loss: 0.3372 - val_accuracy: 0.8710\n",
            "Epoch 64/150\n",
            "18/18 [==============================] - 0s 6ms/step - loss: 0.4364 - accuracy: 0.7899 - val_loss: 0.3368 - val_accuracy: 0.8710\n",
            "Epoch 65/150\n",
            "18/18 [==============================] - 0s 6ms/step - loss: 0.4363 - accuracy: 0.7917 - val_loss: 0.3414 - val_accuracy: 0.8710\n",
            "Epoch 66/150\n",
            "18/18 [==============================] - 0s 6ms/step - loss: 0.4357 - accuracy: 0.7899 - val_loss: 0.3422 - val_accuracy: 0.8710\n",
            "Epoch 67/150\n",
            "18/18 [==============================] - 0s 4ms/step - loss: 0.4348 - accuracy: 0.7899 - val_loss: 0.3401 - val_accuracy: 0.8548\n",
            "Epoch 68/150\n",
            "18/18 [==============================] - 0s 5ms/step - loss: 0.4348 - accuracy: 0.7953 - val_loss: 0.3382 - val_accuracy: 0.8548\n",
            "Epoch 69/150\n",
            "18/18 [==============================] - 0s 5ms/step - loss: 0.4346 - accuracy: 0.7935 - val_loss: 0.3426 - val_accuracy: 0.8548\n",
            "Epoch 70/150\n",
            "18/18 [==============================] - 0s 5ms/step - loss: 0.4347 - accuracy: 0.7953 - val_loss: 0.3415 - val_accuracy: 0.8548\n",
            "Epoch 71/150\n",
            "18/18 [==============================] - 0s 6ms/step - loss: 0.4338 - accuracy: 0.7935 - val_loss: 0.3418 - val_accuracy: 0.8548\n",
            "Epoch 72/150\n",
            "18/18 [==============================] - 0s 6ms/step - loss: 0.4336 - accuracy: 0.7935 - val_loss: 0.3410 - val_accuracy: 0.8548\n",
            "Epoch 73/150\n",
            "18/18 [==============================] - 0s 6ms/step - loss: 0.4328 - accuracy: 0.7899 - val_loss: 0.3406 - val_accuracy: 0.8548\n",
            "Epoch 74/150\n",
            "18/18 [==============================] - 0s 6ms/step - loss: 0.4325 - accuracy: 0.7899 - val_loss: 0.3390 - val_accuracy: 0.8548\n",
            "Epoch 75/150\n",
            "18/18 [==============================] - 0s 6ms/step - loss: 0.4321 - accuracy: 0.7862 - val_loss: 0.3410 - val_accuracy: 0.8548\n",
            "Epoch 76/150\n",
            "18/18 [==============================] - 0s 6ms/step - loss: 0.4320 - accuracy: 0.7917 - val_loss: 0.3400 - val_accuracy: 0.8548\n",
            "Epoch 77/150\n",
            "18/18 [==============================] - 0s 6ms/step - loss: 0.4313 - accuracy: 0.7935 - val_loss: 0.3426 - val_accuracy: 0.8548\n",
            "Epoch 78/150\n",
            "18/18 [==============================] - 0s 5ms/step - loss: 0.4307 - accuracy: 0.7935 - val_loss: 0.3404 - val_accuracy: 0.8548\n",
            "Epoch 79/150\n",
            "18/18 [==============================] - 0s 7ms/step - loss: 0.4303 - accuracy: 0.7862 - val_loss: 0.3412 - val_accuracy: 0.8548\n",
            "Epoch 80/150\n",
            "18/18 [==============================] - 0s 5ms/step - loss: 0.4296 - accuracy: 0.7862 - val_loss: 0.3418 - val_accuracy: 0.8548\n",
            "Epoch 81/150\n",
            "18/18 [==============================] - 0s 5ms/step - loss: 0.4293 - accuracy: 0.7917 - val_loss: 0.3366 - val_accuracy: 0.8710\n",
            "Epoch 82/150\n",
            "18/18 [==============================] - 0s 6ms/step - loss: 0.4293 - accuracy: 0.7917 - val_loss: 0.3384 - val_accuracy: 0.8710\n",
            "Epoch 83/150\n",
            "18/18 [==============================] - 0s 5ms/step - loss: 0.4291 - accuracy: 0.7917 - val_loss: 0.3366 - val_accuracy: 0.8710\n",
            "Epoch 84/150\n",
            "18/18 [==============================] - 0s 5ms/step - loss: 0.4281 - accuracy: 0.7953 - val_loss: 0.3392 - val_accuracy: 0.8710\n",
            "Epoch 85/150\n",
            "18/18 [==============================] - 0s 5ms/step - loss: 0.4284 - accuracy: 0.7880 - val_loss: 0.3421 - val_accuracy: 0.8710\n",
            "Epoch 86/150\n",
            "18/18 [==============================] - 0s 6ms/step - loss: 0.4272 - accuracy: 0.7917 - val_loss: 0.3379 - val_accuracy: 0.8710\n",
            "Epoch 87/150\n",
            "18/18 [==============================] - 0s 5ms/step - loss: 0.4273 - accuracy: 0.7899 - val_loss: 0.3405 - val_accuracy: 0.8710\n",
            "Epoch 88/150\n",
            "18/18 [==============================] - 0s 5ms/step - loss: 0.4268 - accuracy: 0.7935 - val_loss: 0.3393 - val_accuracy: 0.8710\n",
            "Epoch 89/150\n",
            "18/18 [==============================] - 0s 8ms/step - loss: 0.4267 - accuracy: 0.7862 - val_loss: 0.3406 - val_accuracy: 0.8710\n",
            "Epoch 90/150\n",
            "18/18 [==============================] - 0s 8ms/step - loss: 0.4263 - accuracy: 0.7917 - val_loss: 0.3397 - val_accuracy: 0.8710\n",
            "Epoch 91/150\n",
            "18/18 [==============================] - 0s 7ms/step - loss: 0.4258 - accuracy: 0.7935 - val_loss: 0.3410 - val_accuracy: 0.8710\n",
            "Epoch 92/150\n",
            "18/18 [==============================] - 0s 8ms/step - loss: 0.4260 - accuracy: 0.7899 - val_loss: 0.3420 - val_accuracy: 0.8710\n",
            "Epoch 93/150\n",
            "18/18 [==============================] - 0s 7ms/step - loss: 0.4250 - accuracy: 0.7953 - val_loss: 0.3413 - val_accuracy: 0.8710\n",
            "Epoch 94/150\n",
            "18/18 [==============================] - 0s 7ms/step - loss: 0.4253 - accuracy: 0.7899 - val_loss: 0.3381 - val_accuracy: 0.8710\n",
            "Epoch 95/150\n",
            "18/18 [==============================] - 0s 6ms/step - loss: 0.4243 - accuracy: 0.7935 - val_loss: 0.3409 - val_accuracy: 0.8710\n",
            "Epoch 96/150\n",
            "18/18 [==============================] - 0s 7ms/step - loss: 0.4244 - accuracy: 0.7899 - val_loss: 0.3403 - val_accuracy: 0.8710\n",
            "Epoch 97/150\n",
            "18/18 [==============================] - 0s 7ms/step - loss: 0.4240 - accuracy: 0.7917 - val_loss: 0.3384 - val_accuracy: 0.8710\n",
            "Epoch 98/150\n",
            "18/18 [==============================] - 0s 8ms/step - loss: 0.4234 - accuracy: 0.7899 - val_loss: 0.3395 - val_accuracy: 0.8710\n",
            "Epoch 99/150\n",
            "18/18 [==============================] - 0s 7ms/step - loss: 0.4236 - accuracy: 0.7862 - val_loss: 0.3384 - val_accuracy: 0.8710\n",
            "Epoch 100/150\n",
            "18/18 [==============================] - 0s 7ms/step - loss: 0.4225 - accuracy: 0.7917 - val_loss: 0.3378 - val_accuracy: 0.8710\n",
            "Epoch 101/150\n",
            "18/18 [==============================] - 0s 7ms/step - loss: 0.4228 - accuracy: 0.7935 - val_loss: 0.3401 - val_accuracy: 0.8710\n",
            "Epoch 102/150\n",
            "18/18 [==============================] - 0s 7ms/step - loss: 0.4221 - accuracy: 0.7953 - val_loss: 0.3398 - val_accuracy: 0.8710\n",
            "Epoch 103/150\n",
            "18/18 [==============================] - 0s 6ms/step - loss: 0.4222 - accuracy: 0.7989 - val_loss: 0.3381 - val_accuracy: 0.8710\n",
            "Epoch 104/150\n",
            "18/18 [==============================] - 0s 7ms/step - loss: 0.4218 - accuracy: 0.7953 - val_loss: 0.3380 - val_accuracy: 0.8710\n",
            "Epoch 105/150\n",
            "18/18 [==============================] - 0s 7ms/step - loss: 0.4223 - accuracy: 0.7880 - val_loss: 0.3351 - val_accuracy: 0.8710\n",
            "Epoch 106/150\n",
            "18/18 [==============================] - 0s 7ms/step - loss: 0.4218 - accuracy: 0.7953 - val_loss: 0.3433 - val_accuracy: 0.8710\n",
            "Epoch 107/150\n",
            "18/18 [==============================] - 0s 7ms/step - loss: 0.4209 - accuracy: 0.7953 - val_loss: 0.3424 - val_accuracy: 0.8548\n",
            "Epoch 108/150\n",
            "18/18 [==============================] - 0s 6ms/step - loss: 0.4201 - accuracy: 0.7935 - val_loss: 0.3407 - val_accuracy: 0.8710\n",
            "Epoch 109/150\n",
            "18/18 [==============================] - 0s 8ms/step - loss: 0.4202 - accuracy: 0.7953 - val_loss: 0.3394 - val_accuracy: 0.8710\n",
            "Epoch 110/150\n",
            "18/18 [==============================] - 0s 7ms/step - loss: 0.4197 - accuracy: 0.7953 - val_loss: 0.3393 - val_accuracy: 0.8710\n",
            "Epoch 111/150\n",
            "18/18 [==============================] - 0s 8ms/step - loss: 0.4197 - accuracy: 0.7935 - val_loss: 0.3387 - val_accuracy: 0.8710\n",
            "Epoch 112/150\n",
            "18/18 [==============================] - 0s 9ms/step - loss: 0.4196 - accuracy: 0.7971 - val_loss: 0.3402 - val_accuracy: 0.8710\n",
            "Epoch 113/150\n",
            "18/18 [==============================] - 0s 7ms/step - loss: 0.4192 - accuracy: 0.7935 - val_loss: 0.3380 - val_accuracy: 0.8710\n",
            "Epoch 114/150\n",
            "18/18 [==============================] - 0s 5ms/step - loss: 0.4191 - accuracy: 0.7953 - val_loss: 0.3372 - val_accuracy: 0.8710\n",
            "Epoch 115/150\n",
            "18/18 [==============================] - 0s 4ms/step - loss: 0.4187 - accuracy: 0.7953 - val_loss: 0.3406 - val_accuracy: 0.8710\n",
            "Epoch 116/150\n",
            "18/18 [==============================] - 0s 5ms/step - loss: 0.4187 - accuracy: 0.7971 - val_loss: 0.3413 - val_accuracy: 0.8548\n",
            "Epoch 117/150\n",
            "18/18 [==============================] - 0s 4ms/step - loss: 0.4177 - accuracy: 0.7953 - val_loss: 0.3422 - val_accuracy: 0.8548\n",
            "Epoch 118/150\n",
            "18/18 [==============================] - 0s 5ms/step - loss: 0.4190 - accuracy: 0.7971 - val_loss: 0.3403 - val_accuracy: 0.8710\n",
            "Epoch 119/150\n",
            "18/18 [==============================] - 0s 4ms/step - loss: 0.4174 - accuracy: 0.7953 - val_loss: 0.3417 - val_accuracy: 0.8710\n",
            "Epoch 120/150\n",
            "18/18 [==============================] - 0s 5ms/step - loss: 0.4169 - accuracy: 0.7953 - val_loss: 0.3410 - val_accuracy: 0.8710\n",
            "Epoch 121/150\n",
            "18/18 [==============================] - 0s 5ms/step - loss: 0.4170 - accuracy: 0.7971 - val_loss: 0.3423 - val_accuracy: 0.8710\n",
            "Epoch 122/150\n",
            "18/18 [==============================] - 0s 6ms/step - loss: 0.4167 - accuracy: 0.7953 - val_loss: 0.3437 - val_accuracy: 0.8548\n",
            "Epoch 123/150\n",
            "18/18 [==============================] - 0s 5ms/step - loss: 0.4168 - accuracy: 0.7935 - val_loss: 0.3390 - val_accuracy: 0.8710\n",
            "Epoch 124/150\n",
            "18/18 [==============================] - 0s 5ms/step - loss: 0.4164 - accuracy: 0.7935 - val_loss: 0.3422 - val_accuracy: 0.8548\n",
            "Epoch 125/150\n",
            "18/18 [==============================] - 0s 4ms/step - loss: 0.4158 - accuracy: 0.7935 - val_loss: 0.3428 - val_accuracy: 0.8548\n",
            "Epoch 126/150\n",
            "18/18 [==============================] - 0s 4ms/step - loss: 0.4154 - accuracy: 0.7935 - val_loss: 0.3411 - val_accuracy: 0.8548\n",
            "Epoch 127/150\n",
            "18/18 [==============================] - 0s 5ms/step - loss: 0.4156 - accuracy: 0.7989 - val_loss: 0.3414 - val_accuracy: 0.8548\n",
            "Epoch 128/150\n",
            "18/18 [==============================] - 0s 7ms/step - loss: 0.4153 - accuracy: 0.7989 - val_loss: 0.3439 - val_accuracy: 0.8548\n",
            "Epoch 129/150\n",
            "18/18 [==============================] - 0s 5ms/step - loss: 0.4150 - accuracy: 0.7971 - val_loss: 0.3429 - val_accuracy: 0.8548\n",
            "Epoch 130/150\n",
            "18/18 [==============================] - 0s 5ms/step - loss: 0.4147 - accuracy: 0.7953 - val_loss: 0.3403 - val_accuracy: 0.8710\n",
            "Epoch 131/150\n",
            "18/18 [==============================] - 0s 5ms/step - loss: 0.4141 - accuracy: 0.7989 - val_loss: 0.3408 - val_accuracy: 0.8710\n",
            "Epoch 132/150\n",
            "18/18 [==============================] - 0s 7ms/step - loss: 0.4140 - accuracy: 0.7935 - val_loss: 0.3390 - val_accuracy: 0.8548\n",
            "Epoch 133/150\n",
            "18/18 [==============================] - 0s 6ms/step - loss: 0.4138 - accuracy: 0.8007 - val_loss: 0.3395 - val_accuracy: 0.8548\n",
            "Epoch 134/150\n",
            "18/18 [==============================] - 0s 5ms/step - loss: 0.4133 - accuracy: 0.7971 - val_loss: 0.3453 - val_accuracy: 0.8548\n",
            "Epoch 135/150\n",
            "18/18 [==============================] - 0s 4ms/step - loss: 0.4129 - accuracy: 0.7989 - val_loss: 0.3441 - val_accuracy: 0.8548\n",
            "Epoch 136/150\n",
            "18/18 [==============================] - 0s 5ms/step - loss: 0.4142 - accuracy: 0.8025 - val_loss: 0.3394 - val_accuracy: 0.8548\n",
            "Epoch 137/150\n",
            "18/18 [==============================] - 0s 4ms/step - loss: 0.4137 - accuracy: 0.8025 - val_loss: 0.3385 - val_accuracy: 0.8710\n",
            "Epoch 138/150\n",
            "18/18 [==============================] - 0s 6ms/step - loss: 0.4129 - accuracy: 0.7971 - val_loss: 0.3389 - val_accuracy: 0.8710\n",
            "Epoch 139/150\n",
            "18/18 [==============================] - 0s 5ms/step - loss: 0.4129 - accuracy: 0.8025 - val_loss: 0.3432 - val_accuracy: 0.8710\n",
            "Epoch 140/150\n",
            "18/18 [==============================] - 0s 6ms/step - loss: 0.4122 - accuracy: 0.7971 - val_loss: 0.3416 - val_accuracy: 0.8710\n",
            "Epoch 141/150\n",
            "18/18 [==============================] - 0s 4ms/step - loss: 0.4117 - accuracy: 0.8043 - val_loss: 0.3399 - val_accuracy: 0.8710\n",
            "Epoch 142/150\n",
            "18/18 [==============================] - 0s 6ms/step - loss: 0.4116 - accuracy: 0.8007 - val_loss: 0.3381 - val_accuracy: 0.8710\n",
            "Epoch 143/150\n",
            "18/18 [==============================] - 0s 4ms/step - loss: 0.4114 - accuracy: 0.8007 - val_loss: 0.3393 - val_accuracy: 0.8710\n",
            "Epoch 144/150\n",
            "18/18 [==============================] - 0s 5ms/step - loss: 0.4107 - accuracy: 0.8007 - val_loss: 0.3391 - val_accuracy: 0.8548\n",
            "Epoch 145/150\n",
            "18/18 [==============================] - 0s 5ms/step - loss: 0.4102 - accuracy: 0.8062 - val_loss: 0.3388 - val_accuracy: 0.8710\n",
            "Epoch 146/150\n",
            "18/18 [==============================] - 0s 5ms/step - loss: 0.4106 - accuracy: 0.8025 - val_loss: 0.3397 - val_accuracy: 0.8548\n",
            "Epoch 147/150\n",
            "18/18 [==============================] - 0s 5ms/step - loss: 0.4096 - accuracy: 0.8007 - val_loss: 0.3372 - val_accuracy: 0.8710\n",
            "Epoch 148/150\n",
            "18/18 [==============================] - 0s 5ms/step - loss: 0.4098 - accuracy: 0.8007 - val_loss: 0.3357 - val_accuracy: 0.8710\n",
            "Epoch 149/150\n",
            "18/18 [==============================] - 0s 5ms/step - loss: 0.4091 - accuracy: 0.7971 - val_loss: 0.3353 - val_accuracy: 0.8710\n",
            "Epoch 150/150\n",
            "18/18 [==============================] - 0s 6ms/step - loss: 0.4089 - accuracy: 0.8062 - val_loss: 0.3386 - val_accuracy: 0.8548\n"
          ]
        },
        {
          "data": {
            "text/plain": [
              "<keras.callbacks.History at 0x7fd4e2798190>"
            ]
          },
          "execution_count": 24,
          "metadata": {},
          "output_type": "execute_result"
        }
      ],
      "source": [
        "model.fit(x_train_standard,y_train, validation_split=0.1, epochs=150)"
      ]
    },
    {
      "cell_type": "markdown",
      "metadata": {
        "id": "cWUr_KYfIQrF"
      },
      "source": [
        "# CHECKING THE ACCURACY"
      ]
    },
    {
      "cell_type": "code",
      "execution_count": null,
      "metadata": {
        "colab": {
          "base_uri": "https://localhost:8080/"
        },
        "id": "FdkEZb6bGG9s",
        "outputId": "aa184065-b47c-4c15-c604-4b4c5eac511d"
      },
      "outputs": [
        {
          "name": "stdout",
          "output_type": "stream",
          "text": [
            "20/20 [==============================] - 0s 4ms/step - loss: 0.4005 - accuracy: 0.8111\n"
          ]
        },
        {
          "data": {
            "text/plain": [
              "0.8110749125480652"
            ]
          },
          "execution_count": 25,
          "metadata": {},
          "output_type": "execute_result"
        }
      ],
      "source": [
        "loss, accuracy=model.evaluate(x_train_standard,y_train)\n",
        "accuracy"
      ]
    },
    {
      "cell_type": "code",
      "execution_count": null,
      "metadata": {
        "colab": {
          "base_uri": "https://localhost:8080/"
        },
        "id": "bs10aFpoGPJg",
        "outputId": "5184f6fe-a4ba-46e0-e848-59183bf462de"
      },
      "outputs": [
        {
          "name": "stdout",
          "output_type": "stream",
          "text": [
            "5/5 [==============================] - 0s 4ms/step - loss: 0.4762 - accuracy: 0.8247\n"
          ]
        },
        {
          "data": {
            "text/plain": [
              "0.8246753215789795"
            ]
          },
          "execution_count": 26,
          "metadata": {},
          "output_type": "execute_result"
        }
      ],
      "source": [
        "loss, accuracy=model.evaluate(x_test_standard,y_test)\n",
        "accuracy"
      ]
    },
    {
      "cell_type": "code",
      "execution_count": null,
      "metadata": {
        "colab": {
          "base_uri": "https://localhost:8080/"
        },
        "id": "R9qdPEZRGfJ6",
        "outputId": "7ec13cf1-9450-499b-f656-5c2e4a703948"
      },
      "outputs": [
        {
          "name": "stdout",
          "output_type": "stream",
          "text": [
            "5/5 [==============================] - 0s 3ms/step\n"
          ]
        }
      ],
      "source": [
        "#Taking predicted values\n",
        "y_predict = model.predict(x_test_standard)"
      ]
    },
    {
      "cell_type": "code",
      "execution_count": null,
      "metadata": {
        "colab": {
          "base_uri": "https://localhost:8080/"
        },
        "id": "j_4gz6mbGh2e",
        "outputId": "50c5b4e5-8121-46cd-8de5-3bddb1d137ec"
      },
      "outputs": [
        {
          "data": {
            "text/plain": [
              "array([[0.9396495 , 0.05699902],\n",
              "       [0.7640776 , 0.27956933],\n",
              "       [0.89978266, 0.17407067],\n",
              "       [0.29636207, 0.48681882],\n",
              "       [0.63549536, 0.6621204 ],\n",
              "       [0.9012107 , 0.14433429],\n",
              "       [0.91191304, 0.10752293],\n",
              "       [0.677828  , 0.550845  ],\n",
              "       [0.8635192 , 0.10822365],\n",
              "       [0.5296168 , 0.66695696],\n",
              "       [0.46392912, 0.44264278],\n",
              "       [0.5321866 , 0.43198103],\n",
              "       [0.46364856, 0.9276138 ],\n",
              "       [0.8347799 , 0.53997344],\n",
              "       [0.87398875, 0.05595716],\n",
              "       [0.50116134, 0.8619334 ],\n",
              "       [0.3570565 , 0.88840127],\n",
              "       [0.9390021 , 0.0536364 ],\n",
              "       [0.85648406, 0.51834387],\n",
              "       [0.37251163, 0.6742141 ],\n",
              "       [0.4073012 , 0.9507231 ],\n",
              "       [0.33438993, 0.897104  ],\n",
              "       [0.8822939 , 0.1072677 ],\n",
              "       [0.8409537 , 0.6917976 ],\n",
              "       [0.84615505, 0.1172843 ],\n",
              "       [0.76795965, 0.26941735],\n",
              "       [0.7106528 , 0.6094378 ],\n",
              "       [0.80977666, 0.6615816 ],\n",
              "       [0.6821078 , 0.35984033],\n",
              "       [0.73335826, 0.43213063],\n",
              "       [0.44089362, 0.4309549 ],\n",
              "       [0.55619496, 0.7574878 ],\n",
              "       [0.96075916, 0.03449464],\n",
              "       [0.7110292 , 0.43257272],\n",
              "       [0.39595544, 0.5893841 ],\n",
              "       [0.22915053, 0.87978584],\n",
              "       [0.6455048 , 0.6235995 ],\n",
              "       [0.6125621 , 0.7271397 ],\n",
              "       [0.819353  , 0.42208743],\n",
              "       [0.9252877 , 0.07052375],\n",
              "       [0.81822836, 0.27585542],\n",
              "       [0.86003315, 0.17378823],\n",
              "       [0.7407895 , 0.34696963],\n",
              "       [0.83086795, 0.22571465],\n",
              "       [0.9538091 , 0.06769135],\n",
              "       [0.92571133, 0.06362443],\n",
              "       [0.8211506 , 0.3229029 ],\n",
              "       [0.49127784, 0.6643876 ],\n",
              "       [0.90229213, 0.26622266],\n",
              "       [0.67361575, 0.66235656],\n",
              "       [0.6990392 , 0.99681246],\n",
              "       [0.4213224 , 0.23538913],\n",
              "       [0.61178666, 0.27557725],\n",
              "       [0.54947335, 0.8269157 ],\n",
              "       [0.5263209 , 0.5572939 ],\n",
              "       [0.5979333 , 0.81483656],\n",
              "       [0.30724376, 0.8363079 ],\n",
              "       [0.4493067 , 0.43757582],\n",
              "       [0.32754564, 0.45499098],\n",
              "       [0.93390614, 0.0663325 ],\n",
              "       [0.7157545 , 0.756251  ],\n",
              "       [0.57817733, 0.5013074 ],\n",
              "       [0.26562613, 0.888628  ],\n",
              "       [0.28373784, 0.9040828 ],\n",
              "       [0.6040107 , 0.50886554],\n",
              "       [0.37278053, 0.30957243],\n",
              "       [0.44983625, 0.8512192 ],\n",
              "       [0.74427813, 0.22950388],\n",
              "       [0.8250198 , 0.43790922],\n",
              "       [0.50224394, 0.5036733 ],\n",
              "       [0.89713424, 0.2040258 ],\n",
              "       [0.9237765 , 0.17186248],\n",
              "       [0.5428566 , 0.57251334],\n",
              "       [0.68370205, 0.21184018],\n",
              "       [0.8484945 , 0.17417991],\n",
              "       [0.5504114 , 0.59794617],\n",
              "       [0.6824396 , 0.4790034 ],\n",
              "       [0.8885914 , 0.09329451],\n",
              "       [0.60788757, 0.19819981],\n",
              "       [0.7889453 , 0.22507706],\n",
              "       [0.91691726, 0.12790796],\n",
              "       [0.47790965, 0.2468794 ],\n",
              "       [0.2678967 , 0.40922156],\n",
              "       [0.81052446, 0.4699271 ],\n",
              "       [0.41492975, 0.7012779 ],\n",
              "       [0.6051495 , 0.45480773],\n",
              "       [0.46764776, 0.29502937],\n",
              "       [0.9291442 , 0.12890951],\n",
              "       [0.876961  , 0.45627728],\n",
              "       [0.58976245, 0.21256284],\n",
              "       [0.83529407, 0.3793597 ],\n",
              "       [0.83276397, 0.39801964],\n",
              "       [0.612953  , 0.7712687 ],\n",
              "       [0.8223582 , 0.09903898],\n",
              "       [0.4732821 , 0.43605614],\n",
              "       [0.34215873, 0.65672135],\n",
              "       [0.7579093 , 0.43869856],\n",
              "       [0.6022904 , 0.58046913],\n",
              "       [0.51158255, 0.29097626],\n",
              "       [0.8105611 , 0.12076249],\n",
              "       [0.45552117, 0.67965645],\n",
              "       [0.57082516, 0.6853373 ],\n",
              "       [0.9403627 , 0.11218914],\n",
              "       [0.7306604 , 0.16849859],\n",
              "       [0.77352977, 0.2732217 ],\n",
              "       [0.9367377 , 0.15161605],\n",
              "       [0.48880595, 0.87550694],\n",
              "       [0.66517866, 0.31680384],\n",
              "       [0.8043793 , 0.1958024 ],\n",
              "       [0.98385894, 0.00919337],\n",
              "       [0.93894935, 0.05083995],\n",
              "       [0.8451701 , 0.21430779],\n",
              "       [0.6429513 , 0.64784557],\n",
              "       [0.9430699 , 0.09991268],\n",
              "       [0.8284351 , 0.39921197],\n",
              "       [0.40438625, 0.50859445],\n",
              "       [0.55890536, 0.3970847 ],\n",
              "       [0.6624771 , 0.31775606],\n",
              "       [0.9236668 , 0.2303544 ],\n",
              "       [0.8542221 , 0.17657126],\n",
              "       [0.7402391 , 0.31490692],\n",
              "       [0.7253389 , 0.5004311 ],\n",
              "       [0.79461807, 0.2659853 ],\n",
              "       [0.93543047, 0.12725158],\n",
              "       [0.7142668 , 0.45843163],\n",
              "       [0.3332854 , 0.9193277 ],\n",
              "       [0.89710814, 0.18016541],\n",
              "       [0.64706534, 0.46525422],\n",
              "       [0.46658054, 0.5199368 ],\n",
              "       [0.66374993, 0.73651695],\n",
              "       [0.6563567 , 0.8538746 ],\n",
              "       [0.84672254, 0.36070257],\n",
              "       [0.8437159 , 0.811527  ],\n",
              "       [0.9368083 , 0.05728192],\n",
              "       [0.65867984, 0.72576344],\n",
              "       [0.20170602, 0.8827613 ],\n",
              "       [0.60367227, 0.45847034],\n",
              "       [0.566424  , 0.2592415 ],\n",
              "       [0.8514983 , 0.30494386],\n",
              "       [0.5003934 , 0.73721087],\n",
              "       [0.625403  , 0.25831315],\n",
              "       [0.8424351 , 0.9020034 ],\n",
              "       [0.9033481 , 0.22164325],\n",
              "       [0.6964869 , 0.6111269 ],\n",
              "       [0.5785939 , 0.6348382 ],\n",
              "       [0.813998  , 0.2883153 ],\n",
              "       [0.58403563, 0.2321379 ],\n",
              "       [0.48871964, 0.24657752],\n",
              "       [0.9521066 , 0.05328373],\n",
              "       [0.90139693, 0.19275948],\n",
              "       [0.9094833 , 0.15859482],\n",
              "       [0.7798298 , 0.33065993],\n",
              "       [0.33514893, 0.72754186],\n",
              "       [0.9493567 , 0.03894981]], dtype=float32)"
            ]
          },
          "execution_count": 14,
          "metadata": {},
          "output_type": "execute_result"
        }
      ],
      "source": [
        "y_predict"
      ]
    },
    {
      "cell_type": "markdown",
      "metadata": {
        "id": "838IuP8gB4PV"
      },
      "source": [
        "# SAVING THE MODEL IN PICKLE FILE"
      ]
    },
    {
      "cell_type": "code",
      "execution_count": null,
      "metadata": {
        "id": "H2XoTqUOwBSI"
      },
      "outputs": [],
      "source": [
        "import pickle"
      ]
    },
    {
      "cell_type": "code",
      "execution_count": null,
      "metadata": {
        "id": "yvTjjah5wEHN"
      },
      "outputs": [],
      "source": [
        "filename = 'diabetes_model.pkl'\n",
        "pickle.dump(model, open(filename, 'wb'))\n",
        " "
      ]
    },
    {
      "cell_type": "code",
      "execution_count": null,
      "metadata": {
        "id": "EBeM7D0MwGUo"
      },
      "outputs": [],
      "source": []
    }
  ],
  "metadata": {
    "colab": {
      "provenance": []
    },
    "kernelspec": {
      "display_name": "Python 3",
      "name": "python3"
    },
    "language_info": {
      "name": "python",
      "version": "3.8.10"
    }
  },
  "nbformat": 4,
  "nbformat_minor": 0
}
